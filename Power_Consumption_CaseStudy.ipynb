{
 "cells": [
  {
   "cell_type": "code",
   "execution_count": 2,
   "metadata": {},
   "outputs": [],
   "source": [
    "import pandas as pd\n",
    "import numpy as np\n",
    "import matplotlib.pyplot as plt\n",
    "import seaborn as sns\n",
    "%matplotlib inline\n",
    "import missingno as msno"
   ]
  },
  {
   "cell_type": "code",
   "execution_count": 3,
   "metadata": {},
   "outputs": [],
   "source": [
    "data=pd.read_csv(\"C:\\\\Users\\\\iPC\\\\New folder\\\\household_power_consumption.csv\")"
   ]
  },
  {
   "cell_type": "code",
   "execution_count": 4,
   "metadata": {},
   "outputs": [
    {
     "data": {
      "text/html": [
       "<div>\n",
       "<style scoped>\n",
       "    .dataframe tbody tr th:only-of-type {\n",
       "        vertical-align: middle;\n",
       "    }\n",
       "\n",
       "    .dataframe tbody tr th {\n",
       "        vertical-align: top;\n",
       "    }\n",
       "\n",
       "    .dataframe thead th {\n",
       "        text-align: right;\n",
       "    }\n",
       "</style>\n",
       "<table border=\"1\" class=\"dataframe\">\n",
       "  <thead>\n",
       "    <tr style=\"text-align: right;\">\n",
       "      <th></th>\n",
       "      <th>Date</th>\n",
       "      <th>Time</th>\n",
       "      <th>Global_active_power</th>\n",
       "      <th>Global_reactive_power</th>\n",
       "      <th>Voltage</th>\n",
       "      <th>Global_intensity</th>\n",
       "      <th>Sub_metering_1</th>\n",
       "      <th>Sub_metering_2</th>\n",
       "      <th>Sub_metering_3</th>\n",
       "    </tr>\n",
       "  </thead>\n",
       "  <tbody>\n",
       "    <tr>\n",
       "      <th>0</th>\n",
       "      <td>1/1/07</td>\n",
       "      <td>0:00:00</td>\n",
       "      <td>2.58</td>\n",
       "      <td>0.136</td>\n",
       "      <td>241.97</td>\n",
       "      <td>10.6</td>\n",
       "      <td>0</td>\n",
       "      <td>0</td>\n",
       "      <td>0.0</td>\n",
       "    </tr>\n",
       "    <tr>\n",
       "      <th>1</th>\n",
       "      <td>1/1/07</td>\n",
       "      <td>0:01:00</td>\n",
       "      <td>2.552</td>\n",
       "      <td>0.1</td>\n",
       "      <td>241.75</td>\n",
       "      <td>10.4</td>\n",
       "      <td>0</td>\n",
       "      <td>0</td>\n",
       "      <td>0.0</td>\n",
       "    </tr>\n",
       "    <tr>\n",
       "      <th>2</th>\n",
       "      <td>1/1/07</td>\n",
       "      <td>0:02:00</td>\n",
       "      <td>2.55</td>\n",
       "      <td>0.1</td>\n",
       "      <td>241.64</td>\n",
       "      <td>10.4</td>\n",
       "      <td>0</td>\n",
       "      <td>0</td>\n",
       "      <td>0.0</td>\n",
       "    </tr>\n",
       "    <tr>\n",
       "      <th>3</th>\n",
       "      <td>1/1/07</td>\n",
       "      <td>0:03:00</td>\n",
       "      <td>2.55</td>\n",
       "      <td>0.1</td>\n",
       "      <td>241.71</td>\n",
       "      <td>10.4</td>\n",
       "      <td>0</td>\n",
       "      <td>0</td>\n",
       "      <td>0.0</td>\n",
       "    </tr>\n",
       "    <tr>\n",
       "      <th>4</th>\n",
       "      <td>1/1/07</td>\n",
       "      <td>0:04:00</td>\n",
       "      <td>2.554</td>\n",
       "      <td>0.1</td>\n",
       "      <td>241.98</td>\n",
       "      <td>10.4</td>\n",
       "      <td>0</td>\n",
       "      <td>0</td>\n",
       "      <td>0.0</td>\n",
       "    </tr>\n",
       "  </tbody>\n",
       "</table>\n",
       "</div>"
      ],
      "text/plain": [
       "     Date     Time Global_active_power Global_reactive_power Voltage  \\\n",
       "0  1/1/07  0:00:00                2.58                 0.136  241.97   \n",
       "1  1/1/07  0:01:00               2.552                   0.1  241.75   \n",
       "2  1/1/07  0:02:00                2.55                   0.1  241.64   \n",
       "3  1/1/07  0:03:00                2.55                   0.1  241.71   \n",
       "4  1/1/07  0:04:00               2.554                   0.1  241.98   \n",
       "\n",
       "  Global_intensity Sub_metering_1 Sub_metering_2  Sub_metering_3  \n",
       "0             10.6              0              0             0.0  \n",
       "1             10.4              0              0             0.0  \n",
       "2             10.4              0              0             0.0  \n",
       "3             10.4              0              0             0.0  \n",
       "4             10.4              0              0             0.0  "
      ]
     },
     "execution_count": 4,
     "metadata": {},
     "output_type": "execute_result"
    }
   ],
   "source": [
    "#Define= To Visualize the data\n",
    "data.head()"
   ]
  },
  {
   "cell_type": "code",
   "execution_count": 5,
   "metadata": {},
   "outputs": [
    {
     "data": {
      "text/html": [
       "<div>\n",
       "<style scoped>\n",
       "    .dataframe tbody tr th:only-of-type {\n",
       "        vertical-align: middle;\n",
       "    }\n",
       "\n",
       "    .dataframe tbody tr th {\n",
       "        vertical-align: top;\n",
       "    }\n",
       "\n",
       "    .dataframe thead th {\n",
       "        text-align: right;\n",
       "    }\n",
       "</style>\n",
       "<table border=\"1\" class=\"dataframe\">\n",
       "  <thead>\n",
       "    <tr style=\"text-align: right;\">\n",
       "      <th></th>\n",
       "      <th>Sub_metering_3</th>\n",
       "    </tr>\n",
       "  </thead>\n",
       "  <tbody>\n",
       "    <tr>\n",
       "      <th>count</th>\n",
       "      <td>256869.000000</td>\n",
       "    </tr>\n",
       "    <tr>\n",
       "      <th>mean</th>\n",
       "      <td>5.831825</td>\n",
       "    </tr>\n",
       "    <tr>\n",
       "      <th>std</th>\n",
       "      <td>8.186709</td>\n",
       "    </tr>\n",
       "    <tr>\n",
       "      <th>min</th>\n",
       "      <td>0.000000</td>\n",
       "    </tr>\n",
       "    <tr>\n",
       "      <th>25%</th>\n",
       "      <td>0.000000</td>\n",
       "    </tr>\n",
       "    <tr>\n",
       "      <th>50%</th>\n",
       "      <td>0.000000</td>\n",
       "    </tr>\n",
       "    <tr>\n",
       "      <th>75%</th>\n",
       "      <td>17.000000</td>\n",
       "    </tr>\n",
       "    <tr>\n",
       "      <th>max</th>\n",
       "      <td>20.000000</td>\n",
       "    </tr>\n",
       "  </tbody>\n",
       "</table>\n",
       "</div>"
      ],
      "text/plain": [
       "       Sub_metering_3\n",
       "count   256869.000000\n",
       "mean         5.831825\n",
       "std          8.186709\n",
       "min          0.000000\n",
       "25%          0.000000\n",
       "50%          0.000000\n",
       "75%         17.000000\n",
       "max         20.000000"
      ]
     },
     "execution_count": 5,
     "metadata": {},
     "output_type": "execute_result"
    }
   ],
   "source": [
    "data.describe()"
   ]
  },
  {
   "cell_type": "code",
   "execution_count": 6,
   "metadata": {},
   "outputs": [
    {
     "data": {
      "text/plain": [
       "Index(['Date', 'Time', 'Global_active_power', 'Global_reactive_power',\n",
       "       'Voltage', 'Global_intensity', 'Sub_metering_1', 'Sub_metering_2',\n",
       "       'Sub_metering_3'],\n",
       "      dtype='object')"
      ]
     },
     "execution_count": 6,
     "metadata": {},
     "output_type": "execute_result"
    }
   ],
   "source": [
    "data.columns"
   ]
  },
  {
   "cell_type": "code",
   "execution_count": 7,
   "metadata": {},
   "outputs": [
    {
     "data": {
      "text/plain": [
       "?        3771\n",
       "0.216    2975\n",
       "0.218    2828\n",
       "0.22     2471\n",
       "0.214    2150\n",
       "         ... \n",
       "7.704       1\n",
       "6.512       1\n",
       "7.7         1\n",
       "5.72        1\n",
       "7.77        1\n",
       "Name: Global_active_power, Length: 3585, dtype: int64"
      ]
     },
     "execution_count": 7,
     "metadata": {},
     "output_type": "execute_result"
    }
   ],
   "source": [
    "data['Global_active_power'].value_counts()"
   ]
  },
  {
   "cell_type": "code",
   "execution_count": 8,
   "metadata": {},
   "outputs": [
    {
     "data": {
      "text/plain": [
       "0        65262\n",
       "?         3771\n",
       "0.1       2880\n",
       "0.106     2832\n",
       "0.104     2807\n",
       "         ...  \n",
       "0.788        1\n",
       "0.826        1\n",
       "0.832        1\n",
       "1.046        1\n",
       "0.876        1\n",
       "Name: Global_reactive_power, Length: 414, dtype: int64"
      ]
     },
     "execution_count": 8,
     "metadata": {},
     "output_type": "execute_result"
    }
   ],
   "source": [
    "data['Global_reactive_power'].value_counts()"
   ]
  },
  {
   "cell_type": "code",
   "execution_count": 9,
   "metadata": {},
   "outputs": [
    {
     "data": {
      "text/plain": [
       "?         3771\n",
       "240.67     363\n",
       "240.62     356\n",
       "240.48     356\n",
       "240.74     356\n",
       "          ... \n",
       "227.16       1\n",
       "248.36       1\n",
       "226.53       1\n",
       "228.13       1\n",
       "226.64       1\n",
       "Name: Voltage, Length: 2276, dtype: int64"
      ]
     },
     "execution_count": 9,
     "metadata": {},
     "output_type": "execute_result"
    }
   ],
   "source": [
    "data['Voltage'].value_counts()"
   ]
  },
  {
   "cell_type": "code",
   "execution_count": 10,
   "metadata": {},
   "outputs": [
    {
     "data": {
      "text/plain": [
       "1.4     23579\n",
       "1       23374\n",
       "1.2     18772\n",
       "0.8     13930\n",
       "1.6     12564\n",
       "        ...  \n",
       "38.6        1\n",
       "37.4        1\n",
       "39.2        1\n",
       "36          1\n",
       "44.4        1\n",
       "Name: Global_intensity, Length: 200, dtype: int64"
      ]
     },
     "execution_count": 10,
     "metadata": {},
     "output_type": "execute_result"
    }
   ],
   "source": [
    "data['Global_intensity'].value_counts()"
   ]
  },
  {
   "cell_type": "code",
   "execution_count": 11,
   "metadata": {},
   "outputs": [
    {
     "name": "stdout",
     "output_type": "stream",
     "text": [
      "<class 'pandas.core.frame.DataFrame'>\n",
      "RangeIndex: 260640 entries, 0 to 260639\n",
      "Data columns (total 9 columns):\n",
      " #   Column                 Non-Null Count   Dtype  \n",
      "---  ------                 --------------   -----  \n",
      " 0   Date                   260640 non-null  object \n",
      " 1   Time                   260640 non-null  object \n",
      " 2   Global_active_power    260640 non-null  object \n",
      " 3   Global_reactive_power  260640 non-null  object \n",
      " 4   Voltage                260640 non-null  object \n",
      " 5   Global_intensity       260640 non-null  object \n",
      " 6   Sub_metering_1         260640 non-null  object \n",
      " 7   Sub_metering_2         260640 non-null  object \n",
      " 8   Sub_metering_3         256869 non-null  float64\n",
      "dtypes: float64(1), object(8)\n",
      "memory usage: 17.9+ MB\n"
     ]
    }
   ],
   "source": [
    "data.info()\n",
    "#all other columns except date and time should be in numerics."
   ]
  },
  {
   "cell_type": "code",
   "execution_count": 12,
   "metadata": {},
   "outputs": [
    {
     "data": {
      "text/plain": [
       "Date                        0\n",
       "Time                        0\n",
       "Global_active_power         0\n",
       "Global_reactive_power       0\n",
       "Voltage                     0\n",
       "Global_intensity            0\n",
       "Sub_metering_1              0\n",
       "Sub_metering_2              0\n",
       "Sub_metering_3           3771\n",
       "dtype: int64"
      ]
     },
     "execution_count": 12,
     "metadata": {},
     "output_type": "execute_result"
    }
   ],
   "source": [
    "data.isnull().sum()"
   ]
  },
  {
   "cell_type": "code",
   "execution_count": 13,
   "metadata": {},
   "outputs": [
    {
     "data": {
      "text/plain": [
       "0     2.58\n",
       "1    2.552\n",
       "2     2.55\n",
       "3     2.55\n",
       "4    2.554\n",
       "Name: Global_active_power, dtype: object"
      ]
     },
     "execution_count": 13,
     "metadata": {},
     "output_type": "execute_result"
    }
   ],
   "source": [
    "data['Global_active_power'].head()"
   ]
  },
  {
   "cell_type": "code",
   "execution_count": 14,
   "metadata": {},
   "outputs": [],
   "source": [
    "data=data.replace(to_replace=[\"?\",\";\"],value=np.nan)"
   ]
  },
  {
   "cell_type": "code",
   "execution_count": 15,
   "metadata": {},
   "outputs": [
    {
     "data": {
      "text/plain": [
       "0.216    2975\n",
       "0.218    2828\n",
       "0.22     2471\n",
       "0.214    2150\n",
       "0.222    2060\n",
       "         ... \n",
       "6.34        1\n",
       "6.622       1\n",
       "6.062       1\n",
       "7.7         1\n",
       "6.722       1\n",
       "Name: Global_active_power, Length: 3584, dtype: int64"
      ]
     },
     "execution_count": 15,
     "metadata": {},
     "output_type": "execute_result"
    }
   ],
   "source": [
    "data['Global_active_power'].value_counts()"
   ]
  },
  {
   "cell_type": "code",
   "execution_count": 16,
   "metadata": {},
   "outputs": [],
   "source": [
    "cols=['Global_active_power','Global_reactive_power','Voltage','Global_intensity','Sub_metering_1','Sub_metering_2']\n",
    "data[cols] = data[cols].apply(pd.to_numeric, errors='coerce', axis=1)"
   ]
  },
  {
   "cell_type": "code",
   "execution_count": 17,
   "metadata": {},
   "outputs": [
    {
     "name": "stdout",
     "output_type": "stream",
     "text": [
      "<class 'pandas.core.frame.DataFrame'>\n",
      "RangeIndex: 260640 entries, 0 to 260639\n",
      "Data columns (total 9 columns):\n",
      " #   Column                 Non-Null Count   Dtype  \n",
      "---  ------                 --------------   -----  \n",
      " 0   Date                   260640 non-null  object \n",
      " 1   Time                   260640 non-null  object \n",
      " 2   Global_active_power    256869 non-null  float64\n",
      " 3   Global_reactive_power  256869 non-null  float64\n",
      " 4   Voltage                256869 non-null  float64\n",
      " 5   Global_intensity       256869 non-null  float64\n",
      " 6   Sub_metering_1         256869 non-null  float64\n",
      " 7   Sub_metering_2         256869 non-null  float64\n",
      " 8   Sub_metering_3         256869 non-null  float64\n",
      "dtypes: float64(7), object(2)\n",
      "memory usage: 17.9+ MB\n"
     ]
    }
   ],
   "source": [
    "data.info()"
   ]
  },
  {
   "cell_type": "code",
   "execution_count": 18,
   "metadata": {},
   "outputs": [
    {
     "data": {
      "text/html": [
       "<div>\n",
       "<style scoped>\n",
       "    .dataframe tbody tr th:only-of-type {\n",
       "        vertical-align: middle;\n",
       "    }\n",
       "\n",
       "    .dataframe tbody tr th {\n",
       "        vertical-align: top;\n",
       "    }\n",
       "\n",
       "    .dataframe thead th {\n",
       "        text-align: right;\n",
       "    }\n",
       "</style>\n",
       "<table border=\"1\" class=\"dataframe\">\n",
       "  <thead>\n",
       "    <tr style=\"text-align: right;\">\n",
       "      <th></th>\n",
       "      <th>Global_active_power</th>\n",
       "      <th>Global_reactive_power</th>\n",
       "      <th>Voltage</th>\n",
       "      <th>Global_intensity</th>\n",
       "      <th>Sub_metering_1</th>\n",
       "      <th>Sub_metering_2</th>\n",
       "      <th>Sub_metering_3</th>\n",
       "    </tr>\n",
       "  </thead>\n",
       "  <tbody>\n",
       "    <tr>\n",
       "      <th>count</th>\n",
       "      <td>256869.000000</td>\n",
       "      <td>256869.000000</td>\n",
       "      <td>256869.000000</td>\n",
       "      <td>256869.000000</td>\n",
       "      <td>256869.000000</td>\n",
       "      <td>256869.000000</td>\n",
       "      <td>256869.000000</td>\n",
       "    </tr>\n",
       "    <tr>\n",
       "      <th>mean</th>\n",
       "      <td>1.164937</td>\n",
       "      <td>0.123729</td>\n",
       "      <td>239.208981</td>\n",
       "      <td>4.974755</td>\n",
       "      <td>1.332481</td>\n",
       "      <td>1.670610</td>\n",
       "      <td>5.831825</td>\n",
       "    </tr>\n",
       "    <tr>\n",
       "      <th>std</th>\n",
       "      <td>1.181832</td>\n",
       "      <td>0.111872</td>\n",
       "      <td>3.592793</td>\n",
       "      <td>4.999493</td>\n",
       "      <td>6.704970</td>\n",
       "      <td>6.631361</td>\n",
       "      <td>8.186709</td>\n",
       "    </tr>\n",
       "    <tr>\n",
       "      <th>min</th>\n",
       "      <td>0.082000</td>\n",
       "      <td>0.000000</td>\n",
       "      <td>223.490000</td>\n",
       "      <td>0.400000</td>\n",
       "      <td>0.000000</td>\n",
       "      <td>0.000000</td>\n",
       "      <td>0.000000</td>\n",
       "    </tr>\n",
       "    <tr>\n",
       "      <th>25%</th>\n",
       "      <td>0.296000</td>\n",
       "      <td>0.000000</td>\n",
       "      <td>236.650000</td>\n",
       "      <td>1.400000</td>\n",
       "      <td>0.000000</td>\n",
       "      <td>0.000000</td>\n",
       "      <td>0.000000</td>\n",
       "    </tr>\n",
       "    <tr>\n",
       "      <th>50%</th>\n",
       "      <td>0.564000</td>\n",
       "      <td>0.104000</td>\n",
       "      <td>239.610000</td>\n",
       "      <td>2.600000</td>\n",
       "      <td>0.000000</td>\n",
       "      <td>0.000000</td>\n",
       "      <td>0.000000</td>\n",
       "    </tr>\n",
       "    <tr>\n",
       "      <th>75%</th>\n",
       "      <td>1.606000</td>\n",
       "      <td>0.194000</td>\n",
       "      <td>241.810000</td>\n",
       "      <td>6.800000</td>\n",
       "      <td>0.000000</td>\n",
       "      <td>1.000000</td>\n",
       "      <td>17.000000</td>\n",
       "    </tr>\n",
       "    <tr>\n",
       "      <th>max</th>\n",
       "      <td>10.670000</td>\n",
       "      <td>1.148000</td>\n",
       "      <td>250.890000</td>\n",
       "      <td>46.400000</td>\n",
       "      <td>78.000000</td>\n",
       "      <td>78.000000</td>\n",
       "      <td>20.000000</td>\n",
       "    </tr>\n",
       "  </tbody>\n",
       "</table>\n",
       "</div>"
      ],
      "text/plain": [
       "       Global_active_power  Global_reactive_power        Voltage  \\\n",
       "count        256869.000000          256869.000000  256869.000000   \n",
       "mean              1.164937               0.123729     239.208981   \n",
       "std               1.181832               0.111872       3.592793   \n",
       "min               0.082000               0.000000     223.490000   \n",
       "25%               0.296000               0.000000     236.650000   \n",
       "50%               0.564000               0.104000     239.610000   \n",
       "75%               1.606000               0.194000     241.810000   \n",
       "max              10.670000               1.148000     250.890000   \n",
       "\n",
       "       Global_intensity  Sub_metering_1  Sub_metering_2  Sub_metering_3  \n",
       "count     256869.000000   256869.000000   256869.000000   256869.000000  \n",
       "mean           4.974755        1.332481        1.670610        5.831825  \n",
       "std            4.999493        6.704970        6.631361        8.186709  \n",
       "min            0.400000        0.000000        0.000000        0.000000  \n",
       "25%            1.400000        0.000000        0.000000        0.000000  \n",
       "50%            2.600000        0.000000        0.000000        0.000000  \n",
       "75%            6.800000        0.000000        1.000000       17.000000  \n",
       "max           46.400000       78.000000       78.000000       20.000000  "
      ]
     },
     "execution_count": 18,
     "metadata": {},
     "output_type": "execute_result"
    }
   ],
   "source": [
    "data.describe()"
   ]
  },
  {
   "cell_type": "code",
   "execution_count": 19,
   "metadata": {},
   "outputs": [],
   "source": [
    "#Collect and Organise data\n",
    "data.rename(columns={'Global_active_power':'GAP','Global_reactive_power':'GRP','Global_intensity':'GI',\n",
    "                   'Sub_metering_1':'sm1','Sub_metering_2':'sm2','Sub_metering_3':'sm3'}, inplace=True)"
   ]
  },
  {
   "cell_type": "code",
   "execution_count": 20,
   "metadata": {},
   "outputs": [
    {
     "data": {
      "text/plain": [
       "Index(['Date', 'Time', 'GAP', 'GRP', 'Voltage', 'GI', 'sm1', 'sm2', 'sm3'], dtype='object')"
      ]
     },
     "execution_count": 20,
     "metadata": {},
     "output_type": "execute_result"
    }
   ],
   "source": [
    "data.columns"
   ]
  },
  {
   "cell_type": "code",
   "execution_count": 21,
   "metadata": {},
   "outputs": [],
   "source": [
    "#Data Manipulation\n",
    "data['year'] = pd.DatetimeIndex(data['Date']).year\n",
    "data['month'] = pd.DatetimeIndex(data['Date']).month"
   ]
  },
  {
   "cell_type": "code",
   "execution_count": 22,
   "metadata": {},
   "outputs": [
    {
     "data": {
      "text/html": [
       "<div>\n",
       "<style scoped>\n",
       "    .dataframe tbody tr th:only-of-type {\n",
       "        vertical-align: middle;\n",
       "    }\n",
       "\n",
       "    .dataframe tbody tr th {\n",
       "        vertical-align: top;\n",
       "    }\n",
       "\n",
       "    .dataframe thead th {\n",
       "        text-align: right;\n",
       "    }\n",
       "</style>\n",
       "<table border=\"1\" class=\"dataframe\">\n",
       "  <thead>\n",
       "    <tr style=\"text-align: right;\">\n",
       "      <th></th>\n",
       "      <th>Date</th>\n",
       "      <th>Time</th>\n",
       "      <th>GAP</th>\n",
       "      <th>GRP</th>\n",
       "      <th>Voltage</th>\n",
       "      <th>GI</th>\n",
       "      <th>sm1</th>\n",
       "      <th>sm2</th>\n",
       "      <th>sm3</th>\n",
       "      <th>year</th>\n",
       "      <th>month</th>\n",
       "      <th>SM_Total</th>\n",
       "    </tr>\n",
       "  </thead>\n",
       "  <tbody>\n",
       "    <tr>\n",
       "      <th>0</th>\n",
       "      <td>1/1/07</td>\n",
       "      <td>0:00:00</td>\n",
       "      <td>2.580</td>\n",
       "      <td>0.136</td>\n",
       "      <td>241.97</td>\n",
       "      <td>10.6</td>\n",
       "      <td>0.0</td>\n",
       "      <td>0.0</td>\n",
       "      <td>0.0</td>\n",
       "      <td>2007</td>\n",
       "      <td>1</td>\n",
       "      <td>0.0</td>\n",
       "    </tr>\n",
       "    <tr>\n",
       "      <th>1</th>\n",
       "      <td>1/1/07</td>\n",
       "      <td>0:01:00</td>\n",
       "      <td>2.552</td>\n",
       "      <td>0.100</td>\n",
       "      <td>241.75</td>\n",
       "      <td>10.4</td>\n",
       "      <td>0.0</td>\n",
       "      <td>0.0</td>\n",
       "      <td>0.0</td>\n",
       "      <td>2007</td>\n",
       "      <td>1</td>\n",
       "      <td>0.0</td>\n",
       "    </tr>\n",
       "    <tr>\n",
       "      <th>2</th>\n",
       "      <td>1/1/07</td>\n",
       "      <td>0:02:00</td>\n",
       "      <td>2.550</td>\n",
       "      <td>0.100</td>\n",
       "      <td>241.64</td>\n",
       "      <td>10.4</td>\n",
       "      <td>0.0</td>\n",
       "      <td>0.0</td>\n",
       "      <td>0.0</td>\n",
       "      <td>2007</td>\n",
       "      <td>1</td>\n",
       "      <td>0.0</td>\n",
       "    </tr>\n",
       "    <tr>\n",
       "      <th>3</th>\n",
       "      <td>1/1/07</td>\n",
       "      <td>0:03:00</td>\n",
       "      <td>2.550</td>\n",
       "      <td>0.100</td>\n",
       "      <td>241.71</td>\n",
       "      <td>10.4</td>\n",
       "      <td>0.0</td>\n",
       "      <td>0.0</td>\n",
       "      <td>0.0</td>\n",
       "      <td>2007</td>\n",
       "      <td>1</td>\n",
       "      <td>0.0</td>\n",
       "    </tr>\n",
       "    <tr>\n",
       "      <th>4</th>\n",
       "      <td>1/1/07</td>\n",
       "      <td>0:04:00</td>\n",
       "      <td>2.554</td>\n",
       "      <td>0.100</td>\n",
       "      <td>241.98</td>\n",
       "      <td>10.4</td>\n",
       "      <td>0.0</td>\n",
       "      <td>0.0</td>\n",
       "      <td>0.0</td>\n",
       "      <td>2007</td>\n",
       "      <td>1</td>\n",
       "      <td>0.0</td>\n",
       "    </tr>\n",
       "  </tbody>\n",
       "</table>\n",
       "</div>"
      ],
      "text/plain": [
       "     Date     Time    GAP    GRP  Voltage    GI  sm1  sm2  sm3  year  month  \\\n",
       "0  1/1/07  0:00:00  2.580  0.136   241.97  10.6  0.0  0.0  0.0  2007      1   \n",
       "1  1/1/07  0:01:00  2.552  0.100   241.75  10.4  0.0  0.0  0.0  2007      1   \n",
       "2  1/1/07  0:02:00  2.550  0.100   241.64  10.4  0.0  0.0  0.0  2007      1   \n",
       "3  1/1/07  0:03:00  2.550  0.100   241.71  10.4  0.0  0.0  0.0  2007      1   \n",
       "4  1/1/07  0:04:00  2.554  0.100   241.98  10.4  0.0  0.0  0.0  2007      1   \n",
       "\n",
       "   SM_Total  \n",
       "0       0.0  \n",
       "1       0.0  \n",
       "2       0.0  \n",
       "3       0.0  \n",
       "4       0.0  "
      ]
     },
     "execution_count": 22,
     "metadata": {},
     "output_type": "execute_result"
    }
   ],
   "source": [
    "data['SM_Total']=data['sm1']+data['sm2']+data['sm3']\n",
    "data.head()"
   ]
  },
  {
   "cell_type": "code",
   "execution_count": 23,
   "metadata": {},
   "outputs": [
    {
     "name": "stdout",
     "output_type": "stream",
     "text": [
      "(260640, 12)\n",
      "(143492, 12)\n"
     ]
    }
   ],
   "source": [
    "#For Visualization Create Subset where SM_Total>0\n",
    "df1=data[data.SM_Total>0]\n",
    "print(data.shape)   #260640\n",
    "print(df1.shape)    #143492\n",
    "# data where SM_Total is 0\n",
    "#(260640-143492)/260640\n",
    "#45% of the data SM_Total is 0\n",
    "#For Visualization we will use 55% of the data where SM_Total>0 because it is billable(SM_Total) others else are information(Voltage,GAP,GRP)"
   ]
  },
  {
   "cell_type": "code",
   "execution_count": 31,
   "metadata": {},
   "outputs": [],
   "source": [
    "import seaborn as sns"
   ]
  },
  {
   "cell_type": "code",
   "execution_count": 32,
   "metadata": {},
   "outputs": [],
   "source": [
    "sns.set_style(\"whitegrid\")"
   ]
  },
  {
   "cell_type": "code",
   "execution_count": 33,
   "metadata": {
    "scrolled": false
   },
   "outputs": [
    {
     "data": {
      "text/plain": [
       "<matplotlib.axes._subplots.AxesSubplot at 0x2544a13d608>"
      ]
     },
     "execution_count": 33,
     "metadata": {},
     "output_type": "execute_result"
    },
    {
     "data": {
      "image/png": "[encoded data removed]",
      "text/plain": [
       "<Figure size 432x288 with 1 Axes>"
      ]
     },
     "metadata": {},
     "output_type": "display_data"
    }
   ],
   "source": [
    "sns.boxplot(y='SM_Total',data=df1)\n",
    "#75% of the times the SM_Total values are <=19 units"
   ]
  },
  {
   "cell_type": "markdown",
   "metadata": {},
   "source": [
    "very Few Values are greater than 40 most of the values are concentrated between 0 and 40 "
   ]
  },
  {
   "cell_type": "code",
   "execution_count": 27,
   "metadata": {},
   "outputs": [
    {
     "data": {
      "text/plain": [
       "count    143492.000000\n",
       "mean         15.815627\n",
       "std          15.104572\n",
       "min           1.000000\n",
       "25%           2.000000\n",
       "50%          17.000000\n",
       "75%          19.000000\n",
       "max         126.000000\n",
       "Name: SM_Total, dtype: float64"
      ]
     },
     "execution_count": 27,
     "metadata": {},
     "output_type": "execute_result"
    }
   ],
   "source": [
    "df1['SM_Total'].describe()"
   ]
  },
  {
   "cell_type": "code",
   "execution_count": 28,
   "metadata": {
    "scrolled": false
   },
   "outputs": [
    {
     "data": {
      "text/plain": [
       "<matplotlib.axes._subplots.AxesSubplot at 0x2542ff454c8>"
      ]
     },
     "execution_count": 28,
     "metadata": {},
     "output_type": "execute_result"
    },
    {
     "data": {
      "image/png": "[encoded data removed]",
      "text/plain": [
       "<Figure size 432x288 with 1 Axes>"
      ]
     },
     "metadata": {},
     "output_type": "display_data"
    }
   ],
   "source": [
    "sns.boxplot(x='month',y='SM_Total',data=df1)"
   ]
  },
  {
   "cell_type": "code",
   "execution_count": 29,
   "metadata": {},
   "outputs": [
    {
     "data": {
      "text/plain": [
       "<matplotlib.axes._subplots.AxesSubplot at 0x2542edba2c8>"
      ]
     },
     "execution_count": 29,
     "metadata": {},
     "output_type": "execute_result"
    },
    {
     "data": {
      "image/png": "[encoded data removed]",
      "text/plain": [
       "<Figure size 432x288 with 1 Axes>"
      ]
     },
     "metadata": {},
     "output_type": "display_data"
    }
   ],
   "source": [
    "#The Sns.barplot function calculates the mean\n",
    "sns.barplot(x='month',y='SM_Total',data=df1)"
   ]
  },
  {
   "cell_type": "code",
   "execution_count": 30,
   "metadata": {},
   "outputs": [
    {
     "data": {
      "text/plain": [
       "count    143492.000000\n",
       "mean        238.411538\n",
       "std           3.613917\n",
       "min         223.490000\n",
       "25%         235.860000\n",
       "50%         238.760000\n",
       "75%         241.050000\n",
       "max         249.760000\n",
       "Name: Voltage, dtype: float64"
      ]
     },
     "execution_count": 30,
     "metadata": {},
     "output_type": "execute_result"
    },
    {
     "data": {
      "image/png": "[encoded data removed]",
      "text/plain": [
       "<Figure size 432x288 with 1 Axes>"
      ]
     },
     "metadata": {},
     "output_type": "display_data"
    }
   ],
   "source": [
    "#Hypothesis -- Voltage effects SM_Total\n",
    "sns.boxplot(y='Voltage',data=df1)\n",
    "df1['Voltage'].describe()"
   ]
  },
  {
   "cell_type": "markdown",
   "metadata": {},
   "source": [
    "Mean,Min,Max does not have much difference Voltage does not seems fluctates so we can't say voltage effects SM_Total so we will divide voltage as high or low"
   ]
  },
  {
   "cell_type": "code",
   "execution_count": 47,
   "metadata": {},
   "outputs": [
    {
     "name": "stderr",
     "output_type": "stream",
     "text": [
      "C:\\Users\\iPC\\anaconda3\\lib\\site-packages\\ipykernel_launcher.py:1: SettingWithCopyWarning: \n",
      "A value is trying to be set on a copy of a slice from a DataFrame.\n",
      "Try using .loc[row_indexer,col_indexer] = value instead\n",
      "\n",
      "See the caveats in the documentation: https://pandas.pydata.org/pandas-docs/stable/user_guide/indexing.html#returning-a-view-versus-a-copy\n",
      "  \"\"\"Entry point for launching an IPython kernel.\n"
     ]
    },
    {
     "data": {
      "text/html": [
       "<div>\n",
       "<style scoped>\n",
       "    .dataframe tbody tr th:only-of-type {\n",
       "        vertical-align: middle;\n",
       "    }\n",
       "\n",
       "    .dataframe tbody tr th {\n",
       "        vertical-align: top;\n",
       "    }\n",
       "\n",
       "    .dataframe thead th {\n",
       "        text-align: right;\n",
       "    }\n",
       "</style>\n",
       "<table border=\"1\" class=\"dataframe\">\n",
       "  <thead>\n",
       "    <tr style=\"text-align: right;\">\n",
       "      <th></th>\n",
       "      <th>Date</th>\n",
       "      <th>Time</th>\n",
       "      <th>GAP</th>\n",
       "      <th>GRP</th>\n",
       "      <th>Voltage</th>\n",
       "      <th>GI</th>\n",
       "      <th>sm1</th>\n",
       "      <th>sm2</th>\n",
       "      <th>sm3</th>\n",
       "      <th>year</th>\n",
       "      <th>month</th>\n",
       "      <th>SM_Total</th>\n",
       "      <th>alert</th>\n",
       "    </tr>\n",
       "  </thead>\n",
       "  <tbody>\n",
       "    <tr>\n",
       "      <th>21</th>\n",
       "      <td>1/1/07</td>\n",
       "      <td>0:21:00</td>\n",
       "      <td>2.550</td>\n",
       "      <td>0.116</td>\n",
       "      <td>241.15</td>\n",
       "      <td>10.4</td>\n",
       "      <td>0.0</td>\n",
       "      <td>1.0</td>\n",
       "      <td>0.0</td>\n",
       "      <td>2007</td>\n",
       "      <td>1</td>\n",
       "      <td>1.0</td>\n",
       "      <td>High</td>\n",
       "    </tr>\n",
       "    <tr>\n",
       "      <th>22</th>\n",
       "      <td>1/1/07</td>\n",
       "      <td>0:22:00</td>\n",
       "      <td>2.554</td>\n",
       "      <td>0.118</td>\n",
       "      <td>241.55</td>\n",
       "      <td>10.6</td>\n",
       "      <td>0.0</td>\n",
       "      <td>1.0</td>\n",
       "      <td>0.0</td>\n",
       "      <td>2007</td>\n",
       "      <td>1</td>\n",
       "      <td>1.0</td>\n",
       "      <td>High</td>\n",
       "    </tr>\n",
       "    <tr>\n",
       "      <th>23</th>\n",
       "      <td>1/1/07</td>\n",
       "      <td>0:23:00</td>\n",
       "      <td>2.650</td>\n",
       "      <td>0.218</td>\n",
       "      <td>241.67</td>\n",
       "      <td>11.0</td>\n",
       "      <td>0.0</td>\n",
       "      <td>2.0</td>\n",
       "      <td>0.0</td>\n",
       "      <td>2007</td>\n",
       "      <td>1</td>\n",
       "      <td>2.0</td>\n",
       "      <td>High</td>\n",
       "    </tr>\n",
       "    <tr>\n",
       "      <th>24</th>\n",
       "      <td>1/1/07</td>\n",
       "      <td>0:24:00</td>\n",
       "      <td>2.682</td>\n",
       "      <td>0.258</td>\n",
       "      <td>242.45</td>\n",
       "      <td>11.0</td>\n",
       "      <td>0.0</td>\n",
       "      <td>1.0</td>\n",
       "      <td>0.0</td>\n",
       "      <td>2007</td>\n",
       "      <td>1</td>\n",
       "      <td>1.0</td>\n",
       "      <td>High</td>\n",
       "    </tr>\n",
       "    <tr>\n",
       "      <th>25</th>\n",
       "      <td>1/1/07</td>\n",
       "      <td>0:25:00</td>\n",
       "      <td>2.660</td>\n",
       "      <td>0.252</td>\n",
       "      <td>241.60</td>\n",
       "      <td>11.0</td>\n",
       "      <td>0.0</td>\n",
       "      <td>1.0</td>\n",
       "      <td>0.0</td>\n",
       "      <td>2007</td>\n",
       "      <td>1</td>\n",
       "      <td>1.0</td>\n",
       "      <td>High</td>\n",
       "    </tr>\n",
       "  </tbody>\n",
       "</table>\n",
       "</div>"
      ],
      "text/plain": [
       "      Date     Time    GAP    GRP  Voltage    GI  sm1  sm2  sm3  year  month  \\\n",
       "21  1/1/07  0:21:00  2.550  0.116   241.15  10.4  0.0  1.0  0.0  2007      1   \n",
       "22  1/1/07  0:22:00  2.554  0.118   241.55  10.6  0.0  1.0  0.0  2007      1   \n",
       "23  1/1/07  0:23:00  2.650  0.218   241.67  11.0  0.0  2.0  0.0  2007      1   \n",
       "24  1/1/07  0:24:00  2.682  0.258   242.45  11.0  0.0  1.0  0.0  2007      1   \n",
       "25  1/1/07  0:25:00  2.660  0.252   241.60  11.0  0.0  1.0  0.0  2007      1   \n",
       "\n",
       "    SM_Total alert  \n",
       "21       1.0  High  \n",
       "22       1.0  High  \n",
       "23       2.0  High  \n",
       "24       1.0  High  \n",
       "25       1.0  High  "
      ]
     },
     "execution_count": 47,
     "metadata": {},
     "output_type": "execute_result"
    }
   ],
   "source": [
    "df1['alert']=np.where(df1['Voltage']>239,'High','low')\n",
    "df1.head()"
   ]
  },
  {
   "cell_type": "code",
   "execution_count": 44,
   "metadata": {},
   "outputs": [
    {
     "data": {
      "text/plain": [
       "<matplotlib.axes._subplots.AxesSubplot at 0x254317a3dc8>"
      ]
     },
     "execution_count": 44,
     "metadata": {},
     "output_type": "execute_result"
    },
    {
     "data": {
      "image/png": "[encoded data removed]",
      "text/plain": [
       "<Figure size 432x288 with 1 Axes>"
      ]
     },
     "metadata": {},
     "output_type": "display_data"
    }
   ],
   "source": [
    "sns.barplot(x='month', y='SM_Total',hue='alert',data=df1)\n",
    "#The average SM_Toal values are lower for when voltage is high as \n",
    "# compared to when voltage is low"
   ]
  },
  {
   "cell_type": "code",
   "execution_count": 45,
   "metadata": {},
   "outputs": [
    {
     "data": {
      "text/plain": [
       "<matplotlib.axes._subplots.AxesSubplot at 0x254318a7848>"
      ]
     },
     "execution_count": 45,
     "metadata": {},
     "output_type": "execute_result"
    },
    {
     "data": {
      "image/png": "[encoded data removed]",
      "text/plain": [
       "<Figure size 432x288 with 1 Axes>"
      ]
     },
     "metadata": {},
     "output_type": "display_data"
    }
   ],
   "source": [
    "sns.countplot(x='month',hue='alert',data=df1)\n",
    "#Usage is adjusted as per electricity voltage"
   ]
  },
  {
   "cell_type": "code",
   "execution_count": null,
   "metadata": {},
   "outputs": [],
   "source": [
    "#Relationship Between Sm_total and GAP,GRP"
   ]
  },
  {
   "cell_type": "code",
   "execution_count": 62,
   "metadata": {},
   "outputs": [
    {
     "data": {
      "text/plain": [
       "<matplotlib.axes._subplots.AxesSubplot at 0x2542fc1bb08>"
      ]
     },
     "execution_count": 62,
     "metadata": {},
     "output_type": "execute_result"
    },
    {
     "data": {
      "image/png": "[encoded data removed]",
      "text/plain": [
       "<Figure size 432x288 with 1 Axes>"
      ]
     },
     "metadata": {},
     "output_type": "display_data"
    }
   ],
   "source": [
    "sns.scatterplot(x='Voltage',y='SM_Total',data=df1)"
   ]
  },
  {
   "cell_type": "code",
   "execution_count": 77,
   "metadata": {},
   "outputs": [
    {
     "data": {
      "text/plain": [
       "count    143492.000000\n",
       "mean          1.672875\n",
       "std           1.270960\n",
       "min           0.102000\n",
       "25%           0.524000\n",
       "50%           1.412000\n",
       "75%           2.240000\n",
       "max          10.670000\n",
       "Name: GAP, dtype: float64"
      ]
     },
     "execution_count": 77,
     "metadata": {},
     "output_type": "execute_result"
    },
    {
     "data": {
      "image/png": "[encoded data removed]",
      "text/plain": [
       "<Figure size 432x288 with 1 Axes>"
      ]
     },
     "metadata": {},
     "output_type": "display_data"
    }
   ],
   "source": [
    "#Hypothesis-- GAP effects SM_Total \n",
    "sns.boxplot(y='GAP',data=df1)\n",
    "df1['GAP'].describe()"
   ]
  },
  {
   "cell_type": "code",
   "execution_count": 66,
   "metadata": {},
   "outputs": [
    {
     "name": "stderr",
     "output_type": "stream",
     "text": [
      "C:\\Users\\iPC\\anaconda3\\lib\\site-packages\\ipykernel_launcher.py:1: SettingWithCopyWarning: \n",
      "A value is trying to be set on a copy of a slice from a DataFrame.\n",
      "Try using .loc[row_indexer,col_indexer] = value instead\n",
      "\n",
      "See the caveats in the documentation: https://pandas.pydata.org/pandas-docs/stable/user_guide/indexing.html#returning-a-view-versus-a-copy\n",
      "  \"\"\"Entry point for launching an IPython kernel.\n"
     ]
    },
    {
     "data": {
      "text/html": [
       "<div>\n",
       "<style scoped>\n",
       "    .dataframe tbody tr th:only-of-type {\n",
       "        vertical-align: middle;\n",
       "    }\n",
       "\n",
       "    .dataframe tbody tr th {\n",
       "        vertical-align: top;\n",
       "    }\n",
       "\n",
       "    .dataframe thead th {\n",
       "        text-align: right;\n",
       "    }\n",
       "</style>\n",
       "<table border=\"1\" class=\"dataframe\">\n",
       "  <thead>\n",
       "    <tr style=\"text-align: right;\">\n",
       "      <th></th>\n",
       "      <th>Date</th>\n",
       "      <th>Time</th>\n",
       "      <th>GAP</th>\n",
       "      <th>GRP</th>\n",
       "      <th>Voltage</th>\n",
       "      <th>GI</th>\n",
       "      <th>sm1</th>\n",
       "      <th>sm2</th>\n",
       "      <th>sm3</th>\n",
       "      <th>year</th>\n",
       "      <th>month</th>\n",
       "      <th>SM_Total</th>\n",
       "      <th>alert</th>\n",
       "      <th>Alert1</th>\n",
       "    </tr>\n",
       "  </thead>\n",
       "  <tbody>\n",
       "    <tr>\n",
       "      <th>21</th>\n",
       "      <td>1/1/07</td>\n",
       "      <td>0:21:00</td>\n",
       "      <td>2.550</td>\n",
       "      <td>0.116</td>\n",
       "      <td>241.15</td>\n",
       "      <td>10.4</td>\n",
       "      <td>0.0</td>\n",
       "      <td>1.0</td>\n",
       "      <td>0.0</td>\n",
       "      <td>2007</td>\n",
       "      <td>1</td>\n",
       "      <td>1.0</td>\n",
       "      <td>High</td>\n",
       "      <td>High</td>\n",
       "    </tr>\n",
       "    <tr>\n",
       "      <th>22</th>\n",
       "      <td>1/1/07</td>\n",
       "      <td>0:22:00</td>\n",
       "      <td>2.554</td>\n",
       "      <td>0.118</td>\n",
       "      <td>241.55</td>\n",
       "      <td>10.6</td>\n",
       "      <td>0.0</td>\n",
       "      <td>1.0</td>\n",
       "      <td>0.0</td>\n",
       "      <td>2007</td>\n",
       "      <td>1</td>\n",
       "      <td>1.0</td>\n",
       "      <td>High</td>\n",
       "      <td>High</td>\n",
       "    </tr>\n",
       "    <tr>\n",
       "      <th>23</th>\n",
       "      <td>1/1/07</td>\n",
       "      <td>0:23:00</td>\n",
       "      <td>2.650</td>\n",
       "      <td>0.218</td>\n",
       "      <td>241.67</td>\n",
       "      <td>11.0</td>\n",
       "      <td>0.0</td>\n",
       "      <td>2.0</td>\n",
       "      <td>0.0</td>\n",
       "      <td>2007</td>\n",
       "      <td>1</td>\n",
       "      <td>2.0</td>\n",
       "      <td>High</td>\n",
       "      <td>High</td>\n",
       "    </tr>\n",
       "    <tr>\n",
       "      <th>24</th>\n",
       "      <td>1/1/07</td>\n",
       "      <td>0:24:00</td>\n",
       "      <td>2.682</td>\n",
       "      <td>0.258</td>\n",
       "      <td>242.45</td>\n",
       "      <td>11.0</td>\n",
       "      <td>0.0</td>\n",
       "      <td>1.0</td>\n",
       "      <td>0.0</td>\n",
       "      <td>2007</td>\n",
       "      <td>1</td>\n",
       "      <td>1.0</td>\n",
       "      <td>High</td>\n",
       "      <td>High</td>\n",
       "    </tr>\n",
       "    <tr>\n",
       "      <th>25</th>\n",
       "      <td>1/1/07</td>\n",
       "      <td>0:25:00</td>\n",
       "      <td>2.660</td>\n",
       "      <td>0.252</td>\n",
       "      <td>241.60</td>\n",
       "      <td>11.0</td>\n",
       "      <td>0.0</td>\n",
       "      <td>1.0</td>\n",
       "      <td>0.0</td>\n",
       "      <td>2007</td>\n",
       "      <td>1</td>\n",
       "      <td>1.0</td>\n",
       "      <td>High</td>\n",
       "      <td>High</td>\n",
       "    </tr>\n",
       "  </tbody>\n",
       "</table>\n",
       "</div>"
      ],
      "text/plain": [
       "      Date     Time    GAP    GRP  Voltage    GI  sm1  sm2  sm3  year  month  \\\n",
       "21  1/1/07  0:21:00  2.550  0.116   241.15  10.4  0.0  1.0  0.0  2007      1   \n",
       "22  1/1/07  0:22:00  2.554  0.118   241.55  10.6  0.0  1.0  0.0  2007      1   \n",
       "23  1/1/07  0:23:00  2.650  0.218   241.67  11.0  0.0  2.0  0.0  2007      1   \n",
       "24  1/1/07  0:24:00  2.682  0.258   242.45  11.0  0.0  1.0  0.0  2007      1   \n",
       "25  1/1/07  0:25:00  2.660  0.252   241.60  11.0  0.0  1.0  0.0  2007      1   \n",
       "\n",
       "    SM_Total alert Alert1  \n",
       "21       1.0  High   High  \n",
       "22       1.0  High   High  \n",
       "23       2.0  High   High  \n",
       "24       1.0  High   High  \n",
       "25       1.0  High   High  "
      ]
     },
     "execution_count": 66,
     "metadata": {},
     "output_type": "execute_result"
    }
   ],
   "source": [
    "df1['Alert1']=np.where(df1['GAP']>1.672875,'High','Low')\n",
    "df1.head()"
   ]
  },
  {
   "cell_type": "code",
   "execution_count": 75,
   "metadata": {},
   "outputs": [
    {
     "data": {
      "text/plain": [
       "<matplotlib.axes._subplots.AxesSubplot at 0x25465019c48>"
      ]
     },
     "execution_count": 75,
     "metadata": {},
     "output_type": "execute_result"
    },
    {
     "data": {
      "image/png": "[encoded data removed]",
      "text/plain": [
       "<Figure size 432x288 with 1 Axes>"
      ]
     },
     "metadata": {},
     "output_type": "display_data"
    }
   ],
   "source": [
    "sns.barplot(x='month',y='SM_Total',hue='Alert1',data=df1)"
   ]
  },
  {
   "cell_type": "markdown",
   "metadata": {},
   "source": [
    "SM_Total is low for GAP Low and High for GAP High "
   ]
  },
  {
   "cell_type": "code",
   "execution_count": 76,
   "metadata": {},
   "outputs": [
    {
     "data": {
      "text/plain": [
       "<matplotlib.axes._subplots.AxesSubplot at 0x254693effc8>"
      ]
     },
     "execution_count": 76,
     "metadata": {},
     "output_type": "execute_result"
    },
    {
     "data": {
      "image/png": "[encoded data removed]",
      "text/plain": [
       "<Figure size 432x288 with 1 Axes>"
      ]
     },
     "metadata": {},
     "output_type": "display_data"
    }
   ],
   "source": [
    "sns.countplot(x='month',hue='Alert1',data=df1)"
   ]
  },
  {
   "cell_type": "code",
   "execution_count": 78,
   "metadata": {},
   "outputs": [
    {
     "data": {
      "text/plain": [
       "count    143492.000000\n",
       "mean          0.157602\n",
       "std           0.120065\n",
       "min           0.000000\n",
       "25%           0.076000\n",
       "50%           0.132000\n",
       "75%           0.230000\n",
       "max           1.148000\n",
       "Name: GRP, dtype: float64"
      ]
     },
     "execution_count": 78,
     "metadata": {},
     "output_type": "execute_result"
    },
    {
     "data": {
      "image/png": "[encoded data removed]",
      "text/plain": [
       "<Figure size 432x288 with 1 Axes>"
      ]
     },
     "metadata": {},
     "output_type": "display_data"
    }
   ],
   "source": [
    "#Hypothesis-- GRP effects SM_Total \n",
    "sns.boxplot(y='GRP',data=df1)\n",
    "df1['GRP'].describe()"
   ]
  },
  {
   "cell_type": "code",
   "execution_count": 79,
   "metadata": {},
   "outputs": [
    {
     "name": "stderr",
     "output_type": "stream",
     "text": [
      "C:\\Users\\iPC\\anaconda3\\lib\\site-packages\\ipykernel_launcher.py:1: SettingWithCopyWarning: \n",
      "A value is trying to be set on a copy of a slice from a DataFrame.\n",
      "Try using .loc[row_indexer,col_indexer] = value instead\n",
      "\n",
      "See the caveats in the documentation: https://pandas.pydata.org/pandas-docs/stable/user_guide/indexing.html#returning-a-view-versus-a-copy\n",
      "  \"\"\"Entry point for launching an IPython kernel.\n"
     ]
    },
    {
     "data": {
      "text/html": [
       "<div>\n",
       "<style scoped>\n",
       "    .dataframe tbody tr th:only-of-type {\n",
       "        vertical-align: middle;\n",
       "    }\n",
       "\n",
       "    .dataframe tbody tr th {\n",
       "        vertical-align: top;\n",
       "    }\n",
       "\n",
       "    .dataframe thead th {\n",
       "        text-align: right;\n",
       "    }\n",
       "</style>\n",
       "<table border=\"1\" class=\"dataframe\">\n",
       "  <thead>\n",
       "    <tr style=\"text-align: right;\">\n",
       "      <th></th>\n",
       "      <th>Date</th>\n",
       "      <th>Time</th>\n",
       "      <th>GAP</th>\n",
       "      <th>GRP</th>\n",
       "      <th>Voltage</th>\n",
       "      <th>GI</th>\n",
       "      <th>sm1</th>\n",
       "      <th>sm2</th>\n",
       "      <th>sm3</th>\n",
       "      <th>year</th>\n",
       "      <th>month</th>\n",
       "      <th>SM_Total</th>\n",
       "      <th>alert</th>\n",
       "      <th>Alert1</th>\n",
       "      <th>Alert2</th>\n",
       "    </tr>\n",
       "  </thead>\n",
       "  <tbody>\n",
       "    <tr>\n",
       "      <th>21</th>\n",
       "      <td>1/1/07</td>\n",
       "      <td>0:21:00</td>\n",
       "      <td>2.550</td>\n",
       "      <td>0.116</td>\n",
       "      <td>241.15</td>\n",
       "      <td>10.4</td>\n",
       "      <td>0.0</td>\n",
       "      <td>1.0</td>\n",
       "      <td>0.0</td>\n",
       "      <td>2007</td>\n",
       "      <td>1</td>\n",
       "      <td>1.0</td>\n",
       "      <td>High</td>\n",
       "      <td>High</td>\n",
       "      <td>Low</td>\n",
       "    </tr>\n",
       "    <tr>\n",
       "      <th>22</th>\n",
       "      <td>1/1/07</td>\n",
       "      <td>0:22:00</td>\n",
       "      <td>2.554</td>\n",
       "      <td>0.118</td>\n",
       "      <td>241.55</td>\n",
       "      <td>10.6</td>\n",
       "      <td>0.0</td>\n",
       "      <td>1.0</td>\n",
       "      <td>0.0</td>\n",
       "      <td>2007</td>\n",
       "      <td>1</td>\n",
       "      <td>1.0</td>\n",
       "      <td>High</td>\n",
       "      <td>High</td>\n",
       "      <td>Low</td>\n",
       "    </tr>\n",
       "    <tr>\n",
       "      <th>23</th>\n",
       "      <td>1/1/07</td>\n",
       "      <td>0:23:00</td>\n",
       "      <td>2.650</td>\n",
       "      <td>0.218</td>\n",
       "      <td>241.67</td>\n",
       "      <td>11.0</td>\n",
       "      <td>0.0</td>\n",
       "      <td>2.0</td>\n",
       "      <td>0.0</td>\n",
       "      <td>2007</td>\n",
       "      <td>1</td>\n",
       "      <td>2.0</td>\n",
       "      <td>High</td>\n",
       "      <td>High</td>\n",
       "      <td>High</td>\n",
       "    </tr>\n",
       "    <tr>\n",
       "      <th>24</th>\n",
       "      <td>1/1/07</td>\n",
       "      <td>0:24:00</td>\n",
       "      <td>2.682</td>\n",
       "      <td>0.258</td>\n",
       "      <td>242.45</td>\n",
       "      <td>11.0</td>\n",
       "      <td>0.0</td>\n",
       "      <td>1.0</td>\n",
       "      <td>0.0</td>\n",
       "      <td>2007</td>\n",
       "      <td>1</td>\n",
       "      <td>1.0</td>\n",
       "      <td>High</td>\n",
       "      <td>High</td>\n",
       "      <td>High</td>\n",
       "    </tr>\n",
       "    <tr>\n",
       "      <th>25</th>\n",
       "      <td>1/1/07</td>\n",
       "      <td>0:25:00</td>\n",
       "      <td>2.660</td>\n",
       "      <td>0.252</td>\n",
       "      <td>241.60</td>\n",
       "      <td>11.0</td>\n",
       "      <td>0.0</td>\n",
       "      <td>1.0</td>\n",
       "      <td>0.0</td>\n",
       "      <td>2007</td>\n",
       "      <td>1</td>\n",
       "      <td>1.0</td>\n",
       "      <td>High</td>\n",
       "      <td>High</td>\n",
       "      <td>High</td>\n",
       "    </tr>\n",
       "  </tbody>\n",
       "</table>\n",
       "</div>"
      ],
      "text/plain": [
       "      Date     Time    GAP    GRP  Voltage    GI  sm1  sm2  sm3  year  month  \\\n",
       "21  1/1/07  0:21:00  2.550  0.116   241.15  10.4  0.0  1.0  0.0  2007      1   \n",
       "22  1/1/07  0:22:00  2.554  0.118   241.55  10.6  0.0  1.0  0.0  2007      1   \n",
       "23  1/1/07  0:23:00  2.650  0.218   241.67  11.0  0.0  2.0  0.0  2007      1   \n",
       "24  1/1/07  0:24:00  2.682  0.258   242.45  11.0  0.0  1.0  0.0  2007      1   \n",
       "25  1/1/07  0:25:00  2.660  0.252   241.60  11.0  0.0  1.0  0.0  2007      1   \n",
       "\n",
       "    SM_Total alert Alert1 Alert2  \n",
       "21       1.0  High   High    Low  \n",
       "22       1.0  High   High    Low  \n",
       "23       2.0  High   High   High  \n",
       "24       1.0  High   High   High  \n",
       "25       1.0  High   High   High  "
      ]
     },
     "execution_count": 79,
     "metadata": {},
     "output_type": "execute_result"
    }
   ],
   "source": [
    "df1['Alert2']=np.where(df1['GRP']> 0.157602,'High','Low')\n",
    "df1.head()"
   ]
  },
  {
   "cell_type": "code",
   "execution_count": 82,
   "metadata": {},
   "outputs": [
    {
     "data": {
      "text/plain": [
       "<matplotlib.axes._subplots.AxesSubplot at 0x2546eb5d148>"
      ]
     },
     "execution_count": 82,
     "metadata": {},
     "output_type": "execute_result"
    },
    {
     "data": {
      "image/png": "[encoded data removed]",
      "text/plain": [
       "<Figure size 432x288 with 1 Axes>"
      ]
     },
     "metadata": {},
     "output_type": "display_data"
    }
   ],
   "source": [
    "sns.barplot(x='month',y='SM_Total',hue='Alert2',data=df1)"
   ]
  },
  {
   "cell_type": "code",
   "execution_count": 83,
   "metadata": {},
   "outputs": [
    {
     "data": {
      "text/plain": [
       "<matplotlib.axes._subplots.AxesSubplot at 0x2546ebef5c8>"
      ]
     },
     "execution_count": 83,
     "metadata": {},
     "output_type": "execute_result"
    },
    {
     "data": {
      "image/png": "[encoded data removed]",
      "text/plain": [
       "<Figure size 432x288 with 1 Axes>"
      ]
     },
     "metadata": {},
     "output_type": "display_data"
    }
   ],
   "source": [
    "sns.countplot(x='month',hue='Alert2',data=df1)"
   ]
  },
  {
   "cell_type": "code",
   "execution_count": 98,
   "metadata": {},
   "outputs": [
    {
     "data": {
      "text/html": [
       "<div>\n",
       "<style scoped>\n",
       "    .dataframe tbody tr th:only-of-type {\n",
       "        vertical-align: middle;\n",
       "    }\n",
       "\n",
       "    .dataframe tbody tr th {\n",
       "        vertical-align: top;\n",
       "    }\n",
       "\n",
       "    .dataframe thead th {\n",
       "        text-align: right;\n",
       "    }\n",
       "</style>\n",
       "<table border=\"1\" class=\"dataframe\">\n",
       "  <thead>\n",
       "    <tr style=\"text-align: right;\">\n",
       "      <th></th>\n",
       "      <th>GAP</th>\n",
       "      <th>GRP</th>\n",
       "      <th>Voltage</th>\n",
       "      <th>GI</th>\n",
       "      <th>SM_Total</th>\n",
       "    </tr>\n",
       "  </thead>\n",
       "  <tbody>\n",
       "    <tr>\n",
       "      <th>21</th>\n",
       "      <td>2.550</td>\n",
       "      <td>0.116</td>\n",
       "      <td>241.15</td>\n",
       "      <td>10.4</td>\n",
       "      <td>1.0</td>\n",
       "    </tr>\n",
       "    <tr>\n",
       "      <th>22</th>\n",
       "      <td>2.554</td>\n",
       "      <td>0.118</td>\n",
       "      <td>241.55</td>\n",
       "      <td>10.6</td>\n",
       "      <td>1.0</td>\n",
       "    </tr>\n",
       "    <tr>\n",
       "      <th>23</th>\n",
       "      <td>2.650</td>\n",
       "      <td>0.218</td>\n",
       "      <td>241.67</td>\n",
       "      <td>11.0</td>\n",
       "      <td>2.0</td>\n",
       "    </tr>\n",
       "    <tr>\n",
       "      <th>24</th>\n",
       "      <td>2.682</td>\n",
       "      <td>0.258</td>\n",
       "      <td>242.45</td>\n",
       "      <td>11.0</td>\n",
       "      <td>1.0</td>\n",
       "    </tr>\n",
       "    <tr>\n",
       "      <th>25</th>\n",
       "      <td>2.660</td>\n",
       "      <td>0.252</td>\n",
       "      <td>241.60</td>\n",
       "      <td>11.0</td>\n",
       "      <td>1.0</td>\n",
       "    </tr>\n",
       "  </tbody>\n",
       "</table>\n",
       "</div>"
      ],
      "text/plain": [
       "      GAP    GRP  Voltage    GI  SM_Total\n",
       "21  2.550  0.116   241.15  10.4       1.0\n",
       "22  2.554  0.118   241.55  10.6       1.0\n",
       "23  2.650  0.218   241.67  11.0       2.0\n",
       "24  2.682  0.258   242.45  11.0       1.0\n",
       "25  2.660  0.252   241.60  11.0       1.0"
      ]
     },
     "execution_count": 98,
     "metadata": {},
     "output_type": "execute_result"
    }
   ],
   "source": [
    "df2=df1[['GAP','GRP','Voltage','GI','SM_Total']]\n",
    "df2.head()"
   ]
  },
  {
   "cell_type": "code",
   "execution_count": 106,
   "metadata": {},
   "outputs": [
    {
     "data": {
      "text/plain": [
       "<matplotlib.axes._subplots.AxesSubplot at 0x236a5f64608>"
      ]
     },
     "execution_count": 106,
     "metadata": {},
     "output_type": "execute_result"
    },
    {
     "data": {
      "image/png": "[encoded data removed]",
      "text/plain": [
       "<Figure size 432x288 with 2 Axes>"
      ]
     },
     "metadata": {},
     "output_type": "display_data"
    }
   ],
   "source": [
    "#To check if there is any Multicollineary issue\n",
    "sns.heatmap(df2.corr(),annot=True)"
   ]
  },
  {
   "cell_type": "markdown",
   "metadata": {},
   "source": [
    "We found that there is no multicollineary issue as no two columns are highly correlated \n",
    "to each other except with SM_total(dependent Variable) and GAP(0.83),GI(0.83) are highly positively correlated to SM_Total."
   ]
  },
  {
   "cell_type": "code",
   "execution_count": 107,
   "metadata": {},
   "outputs": [
    {
     "data": {
      "text/plain": [
       "<matplotlib.axes._subplots.AxesSubplot at 0x23693648208>"
      ]
     },
     "execution_count": 107,
     "metadata": {},
     "output_type": "execute_result"
    },
    {
     "data": {
      "image/png": "[encoded data removed]",
      "text/plain": [
       "<Figure size 432x288 with 2 Axes>"
      ]
     },
     "metadata": {},
     "output_type": "display_data"
    }
   ],
   "source": [
    "#To check Covariance Between The Columns\n",
    "sns.heatmap(df2.cov(),annot=True)"
   ]
  }
 ],
 "metadata": {
  "kernelspec": {
   "display_name": "Python 3",
   "language": "python",
   "name": "python3"
  },
  "language_info": {
   "codemirror_mode": {
    "name": "ipython",
    "version": 3
   },
   "file_extension": ".py",
   "mimetype": "text/x-python",
   "name": "python",
   "nbconvert_exporter": "python",
   "pygments_lexer": "ipython3",
   "version": "3.7.6"
  }
 },
 "nbformat": 4,
 "nbformat_minor": 4
}
