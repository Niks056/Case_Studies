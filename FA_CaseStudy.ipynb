{
 "cells": [
  {
   "cell_type": "code",
   "execution_count": 1,
   "metadata": {},
   "outputs": [],
   "source": [
    "import pandas as pd\n",
    "import numpy as np\n",
    "import matplotlib.pyplot as plt\n",
    "import seaborn as sns\n",
    "%matplotlib inline\n",
    "import missingno as msno"
   ]
  },
  {
   "cell_type": "code",
   "execution_count": 2,
   "metadata": {},
   "outputs": [],
   "source": [
    "data=pd.read_csv(\"C:\\\\Users\\\\iPC\\\\New folder\\\\Assignments\\\\stockdata.csv\")"
   ]
  },
  {
   "cell_type": "code",
   "execution_count": 3,
   "metadata": {},
   "outputs": [
    {
     "name": "stdout",
     "output_type": "stream",
     "text": [
      "<class 'pandas.core.frame.DataFrame'>\n",
      "RangeIndex: 1994 entries, 0 to 1993\n",
      "Data columns (total 6 columns):\n",
      " #   Column           Non-Null Count  Dtype  \n",
      "---  ------           --------------  -----  \n",
      " 0   Date             1994 non-null   object \n",
      " 1   Citi_Open        1994 non-null   float64\n",
      " 2   HSBC_Open        1994 non-null   float64\n",
      " 3   BOA_Open         1994 non-null   float64\n",
      " 4   Benchmark_Index  1994 non-null   float64\n",
      " 5   Volume           1994 non-null   int64  \n",
      "dtypes: float64(4), int64(1), object(1)\n",
      "memory usage: 93.6+ KB\n"
     ]
    }
   ],
   "source": [
    "data.info()"
   ]
  },
  {
   "cell_type": "code",
   "execution_count": 4,
   "metadata": {},
   "outputs": [
    {
     "data": {
      "text/plain": [
       "Index(['Date', 'Citi_Open', 'HSBC_Open', 'BOA_Open', 'Benchmark_Index',\n",
       "       'Volume'],\n",
       "      dtype='object')"
      ]
     },
     "execution_count": 4,
     "metadata": {},
     "output_type": "execute_result"
    }
   ],
   "source": [
    "data.columns"
   ]
  },
  {
   "cell_type": "code",
   "execution_count": 5,
   "metadata": {},
   "outputs": [
    {
     "data": {
      "text/plain": [
       "Date               0\n",
       "Citi_Open          0\n",
       "HSBC_Open          0\n",
       "BOA_Open           0\n",
       "Benchmark_Index    0\n",
       "Volume             0\n",
       "dtype: int64"
      ]
     },
     "execution_count": 5,
     "metadata": {},
     "output_type": "execute_result"
    }
   ],
   "source": [
    "data.isnull().sum()"
   ]
  },
  {
   "cell_type": "code",
   "execution_count": 6,
   "metadata": {},
   "outputs": [
    {
     "data": {
      "text/html": [
       "<div>\n",
       "<style scoped>\n",
       "    .dataframe tbody tr th:only-of-type {\n",
       "        vertical-align: middle;\n",
       "    }\n",
       "\n",
       "    .dataframe tbody tr th {\n",
       "        vertical-align: top;\n",
       "    }\n",
       "\n",
       "    .dataframe thead th {\n",
       "        text-align: right;\n",
       "    }\n",
       "</style>\n",
       "<table border=\"1\" class=\"dataframe\">\n",
       "  <thead>\n",
       "    <tr style=\"text-align: right;\">\n",
       "      <th></th>\n",
       "      <th>Date</th>\n",
       "      <th>Citi_Open</th>\n",
       "      <th>HSBC_Open</th>\n",
       "      <th>BOA_Open</th>\n",
       "      <th>Benchmark_Index</th>\n",
       "      <th>Volume</th>\n",
       "    </tr>\n",
       "  </thead>\n",
       "  <tbody>\n",
       "    <tr>\n",
       "      <th>0</th>\n",
       "      <td>10-12-2009</td>\n",
       "      <td>25.476</td>\n",
       "      <td>28.931</td>\n",
       "      <td>24.064</td>\n",
       "      <td>27.356</td>\n",
       "      <td>18257213</td>\n",
       "    </tr>\n",
       "    <tr>\n",
       "      <th>1</th>\n",
       "      <td>11-12-2009</td>\n",
       "      <td>27.298</td>\n",
       "      <td>28.308</td>\n",
       "      <td>27.177</td>\n",
       "      <td>27.968</td>\n",
       "      <td>7963846</td>\n",
       "    </tr>\n",
       "    <tr>\n",
       "      <th>2</th>\n",
       "      <td>14-12-2009</td>\n",
       "      <td>27.949</td>\n",
       "      <td>28.308</td>\n",
       "      <td>26.525</td>\n",
       "      <td>26.894</td>\n",
       "      <td>4921468</td>\n",
       "    </tr>\n",
       "    <tr>\n",
       "      <th>3</th>\n",
       "      <td>15-12-2009</td>\n",
       "      <td>26.440</td>\n",
       "      <td>26.704</td>\n",
       "      <td>24.638</td>\n",
       "      <td>24.723</td>\n",
       "      <td>6572225</td>\n",
       "    </tr>\n",
       "    <tr>\n",
       "      <th>4</th>\n",
       "      <td>16-12-2009</td>\n",
       "      <td>24.788</td>\n",
       "      <td>25.043</td>\n",
       "      <td>23.431</td>\n",
       "      <td>24.732</td>\n",
       "      <td>12636765</td>\n",
       "    </tr>\n",
       "  </tbody>\n",
       "</table>\n",
       "</div>"
      ],
      "text/plain": [
       "         Date  Citi_Open  HSBC_Open  BOA_Open  Benchmark_Index    Volume\n",
       "0  10-12-2009     25.476     28.931    24.064           27.356  18257213\n",
       "1  11-12-2009     27.298     28.308    27.177           27.968   7963846\n",
       "2  14-12-2009     27.949     28.308    26.525           26.894   4921468\n",
       "3  15-12-2009     26.440     26.704    24.638           24.723   6572225\n",
       "4  16-12-2009     24.788     25.043    23.431           24.732  12636765"
      ]
     },
     "execution_count": 6,
     "metadata": {},
     "output_type": "execute_result"
    }
   ],
   "source": [
    "data.head()"
   ]
  },
  {
   "cell_type": "code",
   "execution_count": 7,
   "metadata": {},
   "outputs": [
    {
     "data": {
      "text/html": [
       "<div>\n",
       "<style scoped>\n",
       "    .dataframe tbody tr th:only-of-type {\n",
       "        vertical-align: middle;\n",
       "    }\n",
       "\n",
       "    .dataframe tbody tr th {\n",
       "        vertical-align: top;\n",
       "    }\n",
       "\n",
       "    .dataframe thead th {\n",
       "        text-align: right;\n",
       "    }\n",
       "</style>\n",
       "<table border=\"1\" class=\"dataframe\">\n",
       "  <thead>\n",
       "    <tr style=\"text-align: right;\">\n",
       "      <th></th>\n",
       "      <th>Citi_Open</th>\n",
       "      <th>HSBC_Open</th>\n",
       "      <th>BOA_Open</th>\n",
       "      <th>Benchmark_Index</th>\n",
       "      <th>Volume</th>\n",
       "    </tr>\n",
       "  </thead>\n",
       "  <tbody>\n",
       "    <tr>\n",
       "      <th>count</th>\n",
       "      <td>1994.00</td>\n",
       "      <td>1994.00</td>\n",
       "      <td>1994.00</td>\n",
       "      <td>1994.00</td>\n",
       "      <td>1994.00</td>\n",
       "    </tr>\n",
       "    <tr>\n",
       "      <th>mean</th>\n",
       "      <td>39.72</td>\n",
       "      <td>40.13</td>\n",
       "      <td>39.31</td>\n",
       "      <td>39.73</td>\n",
       "      <td>1804325.34</td>\n",
       "    </tr>\n",
       "    <tr>\n",
       "      <th>std</th>\n",
       "      <td>5.56</td>\n",
       "      <td>5.51</td>\n",
       "      <td>5.62</td>\n",
       "      <td>5.55</td>\n",
       "      <td>1408227.82</td>\n",
       "    </tr>\n",
       "    <tr>\n",
       "      <th>min</th>\n",
       "      <td>24.36</td>\n",
       "      <td>24.94</td>\n",
       "      <td>23.43</td>\n",
       "      <td>24.57</td>\n",
       "      <td>251126.00</td>\n",
       "    </tr>\n",
       "    <tr>\n",
       "      <th>25%</th>\n",
       "      <td>35.35</td>\n",
       "      <td>35.75</td>\n",
       "      <td>34.86</td>\n",
       "      <td>35.31</td>\n",
       "      <td>1027536.75</td>\n",
       "    </tr>\n",
       "    <tr>\n",
       "      <th>50%</th>\n",
       "      <td>40.33</td>\n",
       "      <td>40.74</td>\n",
       "      <td>39.95</td>\n",
       "      <td>40.37</td>\n",
       "      <td>1423233.50</td>\n",
       "    </tr>\n",
       "    <tr>\n",
       "      <th>75%</th>\n",
       "      <td>44.51</td>\n",
       "      <td>44.93</td>\n",
       "      <td>44.13</td>\n",
       "      <td>44.57</td>\n",
       "      <td>2036217.50</td>\n",
       "    </tr>\n",
       "    <tr>\n",
       "      <th>max</th>\n",
       "      <td>49.86</td>\n",
       "      <td>50.12</td>\n",
       "      <td>49.34</td>\n",
       "      <td>49.83</td>\n",
       "      <td>18257213.00</td>\n",
       "    </tr>\n",
       "  </tbody>\n",
       "</table>\n",
       "</div>"
      ],
      "text/plain": [
       "       Citi_Open  HSBC_Open  BOA_Open  Benchmark_Index       Volume\n",
       "count    1994.00    1994.00   1994.00          1994.00      1994.00\n",
       "mean       39.72      40.13     39.31            39.73   1804325.34\n",
       "std         5.56       5.51      5.62             5.55   1408227.82\n",
       "min        24.36      24.94     23.43            24.57    251126.00\n",
       "25%        35.35      35.75     34.86            35.31   1027536.75\n",
       "50%        40.33      40.74     39.95            40.37   1423233.50\n",
       "75%        44.51      44.93     44.13            44.57   2036217.50\n",
       "max        49.86      50.12     49.34            49.83  18257213.00"
      ]
     },
     "execution_count": 7,
     "metadata": {},
     "output_type": "execute_result"
    }
   ],
   "source": [
    "data.describe().round(2)"
   ]
  },
  {
   "cell_type": "code",
   "execution_count": 8,
   "metadata": {},
   "outputs": [
    {
     "data": {
      "text/plain": [
       "0.7643884892086331"
      ]
     },
     "execution_count": 8,
     "metadata": {},
     "output_type": "execute_result"
    }
   ],
   "source": [
    "#Mean=39.72\t\n",
    "#range of std deviation=\n",
    "#24.36-49.86\n",
    "(49.86-24.36)/(6*5.56)"
   ]
  },
  {
   "cell_type": "code",
   "execution_count": 9,
   "metadata": {},
   "outputs": [],
   "source": [
    "df1=data.sort_values(['Date'],ascending=False)"
   ]
  },
  {
   "cell_type": "code",
   "execution_count": 10,
   "metadata": {},
   "outputs": [
    {
     "data": {
      "text/plain": [
       "Date               0\n",
       "Citi_Open          0\n",
       "HSBC_Open          0\n",
       "BOA_Open           0\n",
       "Benchmark_Index    0\n",
       "Volume             0\n",
       "dtype: int64"
      ]
     },
     "execution_count": 10,
     "metadata": {},
     "output_type": "execute_result"
    }
   ],
   "source": [
    "missing_value_count=data.isnull().sum()\n",
    "missing_value_count\n"
   ]
  },
  {
   "cell_type": "code",
   "execution_count": 11,
   "metadata": {},
   "outputs": [
    {
     "data": {
      "text/plain": [
       "<matplotlib.axes._subplots.AxesSubplot at 0x1f833a08808>"
      ]
     },
     "execution_count": 11,
     "metadata": {},
     "output_type": "execute_result"
    },
    {
     "data": {
      "image/png": "[encoded data removed]",
      "text/plain": [
       "<Figure size 432x288 with 1 Axes>"
      ]
     },
     "metadata": {
      "needs_background": "light"
     },
     "output_type": "display_data"
    }
   ],
   "source": [
    "data['Citi_Open'].plot(kind=\"hist\",bins=20)"
   ]
  },
  {
   "cell_type": "code",
   "execution_count": 12,
   "metadata": {},
   "outputs": [
    {
     "data": {
      "text/plain": [
       "<matplotlib.axes._subplots.AxesSubplot at 0x1f83417f788>"
      ]
     },
     "execution_count": 12,
     "metadata": {},
     "output_type": "execute_result"
    },
    {
     "data": {
      "image/png": "[encoded data removed]",
      "text/plain": [
       "<Figure size 432x288 with 1 Axes>"
      ]
     },
     "metadata": {
      "needs_background": "light"
     },
     "output_type": "display_data"
    }
   ],
   "source": [
    "data['HSBC_Open'].plot(kind='hist',bins=20)"
   ]
  },
  {
   "cell_type": "code",
   "execution_count": 13,
   "metadata": {},
   "outputs": [
    {
     "data": {
      "text/plain": [
       "<matplotlib.axes._subplots.AxesSubplot at 0x1f83426f6c8>"
      ]
     },
     "execution_count": 13,
     "metadata": {},
     "output_type": "execute_result"
    },
    {
     "data": {
      "image/png": "[encoded data removed]",
      "text/plain": [
       "<Figure size 432x288 with 1 Axes>"
      ]
     },
     "metadata": {
      "needs_background": "light"
     },
     "output_type": "display_data"
    }
   ],
   "source": [
    "data['BOA_Open'].plot(kind='hist',bins=20)"
   ]
  },
  {
   "cell_type": "code",
   "execution_count": 14,
   "metadata": {},
   "outputs": [
    {
     "data": {
      "text/plain": [
       "<matplotlib.axes._subplots.AxesSubplot at 0x1f834302d08>"
      ]
     },
     "execution_count": 14,
     "metadata": {},
     "output_type": "execute_result"
    },
    {
     "data": {
      "image/png": "[encoded data removed]",
      "text/plain": [
       "<Figure size 432x288 with 1 Axes>"
      ]
     },
     "metadata": {
      "needs_background": "light"
     },
     "output_type": "display_data"
    }
   ],
   "source": [
    "data['Citi_Open'].plot(kind='line')\n",
    "data['HSBC_Open'].plot(kind='line')\n",
    "data['BOA_Open'].plot(kind='line')"
   ]
  },
  {
   "cell_type": "code",
   "execution_count": 15,
   "metadata": {},
   "outputs": [],
   "source": [
    "import seaborn as sns"
   ]
  },
  {
   "cell_type": "code",
   "execution_count": 16,
   "metadata": {},
   "outputs": [
    {
     "data": {
      "text/html": [
       "<div>\n",
       "<style scoped>\n",
       "    .dataframe tbody tr th:only-of-type {\n",
       "        vertical-align: middle;\n",
       "    }\n",
       "\n",
       "    .dataframe tbody tr th {\n",
       "        vertical-align: top;\n",
       "    }\n",
       "\n",
       "    .dataframe thead th {\n",
       "        text-align: right;\n",
       "    }\n",
       "</style>\n",
       "<table border=\"1\" class=\"dataframe\">\n",
       "  <thead>\n",
       "    <tr style=\"text-align: right;\">\n",
       "      <th></th>\n",
       "      <th>Citi_Open</th>\n",
       "      <th>HSBC_Open</th>\n",
       "      <th>BOA_Open</th>\n",
       "    </tr>\n",
       "  </thead>\n",
       "  <tbody>\n",
       "    <tr>\n",
       "      <th>0</th>\n",
       "      <td>25.476</td>\n",
       "      <td>28.931</td>\n",
       "      <td>24.064</td>\n",
       "    </tr>\n",
       "    <tr>\n",
       "      <th>1</th>\n",
       "      <td>27.298</td>\n",
       "      <td>28.308</td>\n",
       "      <td>27.177</td>\n",
       "    </tr>\n",
       "    <tr>\n",
       "      <th>2</th>\n",
       "      <td>27.949</td>\n",
       "      <td>28.308</td>\n",
       "      <td>26.525</td>\n",
       "    </tr>\n",
       "    <tr>\n",
       "      <th>3</th>\n",
       "      <td>26.440</td>\n",
       "      <td>26.704</td>\n",
       "      <td>24.638</td>\n",
       "    </tr>\n",
       "    <tr>\n",
       "      <th>4</th>\n",
       "      <td>24.788</td>\n",
       "      <td>25.043</td>\n",
       "      <td>23.431</td>\n",
       "    </tr>\n",
       "  </tbody>\n",
       "</table>\n",
       "</div>"
      ],
      "text/plain": [
       "   Citi_Open  HSBC_Open  BOA_Open\n",
       "0     25.476     28.931    24.064\n",
       "1     27.298     28.308    27.177\n",
       "2     27.949     28.308    26.525\n",
       "3     26.440     26.704    24.638\n",
       "4     24.788     25.043    23.431"
      ]
     },
     "execution_count": 16,
     "metadata": {},
     "output_type": "execute_result"
    }
   ],
   "source": [
    "data1=data[['Citi_Open','HSBC_Open','BOA_Open']]\n",
    "data1.head()"
   ]
  },
  {
   "cell_type": "code",
   "execution_count": 17,
   "metadata": {},
   "outputs": [
    {
     "data": {
      "image/png": "[encoded data removed]",
      "text/plain": [
       "<Figure size 432x432 with 2 Axes>"
      ]
     },
     "metadata": {
      "needs_background": "light"
     },
     "output_type": "display_data"
    }
   ],
   "source": [
    "corr_matrix = data1.corr()\n",
    "plt.subplots(figsize=(6,6))\n",
    "sns.heatmap(corr_matrix,square=True,annot=True)\n",
    "plt.show()"
   ]
  },
  {
   "cell_type": "code",
   "execution_count": 18,
   "metadata": {},
   "outputs": [
    {
     "data": {
      "image/png": "[encoded data removed]",
      "text/plain": [
       "<Figure size 432x432 with 2 Axes>"
      ]
     },
     "metadata": {
      "needs_background": "light"
     },
     "output_type": "display_data"
    }
   ],
   "source": [
    "covMatrix = pd.DataFrame.cov(data1)\n",
    "plt.subplots(figsize=(6,6))\n",
    "sns.heatmap(covMatrix, annot=True, fmt='g')\n",
    "plt.show()"
   ]
  },
  {
   "cell_type": "code",
   "execution_count": 21,
   "metadata": {},
   "outputs": [],
   "source": [
    "from scipy import stats\n",
    "df1['z_C']=stats.zscore(df1['Citi_Open'])\n",
    "df1['z_h']=stats.zscore(df1['HSBC_Open'])\n",
    "df1['z_b']=stats.zscore(df1['BOA_Open'])"
   ]
  },
  {
   "cell_type": "code",
   "execution_count": 22,
   "metadata": {},
   "outputs": [
    {
     "data": {
      "text/html": [
       "<div>\n",
       "<style scoped>\n",
       "    .dataframe tbody tr th:only-of-type {\n",
       "        vertical-align: middle;\n",
       "    }\n",
       "\n",
       "    .dataframe tbody tr th {\n",
       "        vertical-align: top;\n",
       "    }\n",
       "\n",
       "    .dataframe thead th {\n",
       "        text-align: right;\n",
       "    }\n",
       "</style>\n",
       "<table border=\"1\" class=\"dataframe\">\n",
       "  <thead>\n",
       "    <tr style=\"text-align: right;\">\n",
       "      <th></th>\n",
       "      <th>Date</th>\n",
       "      <th>Citi_Open</th>\n",
       "      <th>HSBC_Open</th>\n",
       "      <th>BOA_Open</th>\n",
       "      <th>Benchmark_Index</th>\n",
       "      <th>Volume</th>\n",
       "      <th>z_C</th>\n",
       "      <th>z_h</th>\n",
       "      <th>z_b</th>\n",
       "    </tr>\n",
       "  </thead>\n",
       "  <tbody>\n",
       "    <tr>\n",
       "      <th>1523</th>\n",
       "      <td>31-12-2015</td>\n",
       "      <td>38.525</td>\n",
       "      <td>38.912</td>\n",
       "      <td>38.436</td>\n",
       "      <td>38.446</td>\n",
       "      <td>733818</td>\n",
       "      <td>-0.215633</td>\n",
       "      <td>-0.221329</td>\n",
       "      <td>-0.156029</td>\n",
       "    </tr>\n",
       "    <tr>\n",
       "      <th>1271</th>\n",
       "      <td>31-12-2014</td>\n",
       "      <td>46.415</td>\n",
       "      <td>46.628</td>\n",
       "      <td>45.673</td>\n",
       "      <td>45.709</td>\n",
       "      <td>752429</td>\n",
       "      <td>1.203492</td>\n",
       "      <td>1.180385</td>\n",
       "      <td>1.131370</td>\n",
       "    </tr>\n",
       "    <tr>\n",
       "      <th>1019</th>\n",
       "      <td>31-12-2013</td>\n",
       "      <td>49.028</td>\n",
       "      <td>49.434</td>\n",
       "      <td>48.902</td>\n",
       "      <td>49.292</td>\n",
       "      <td>703661</td>\n",
       "      <td>1.673476</td>\n",
       "      <td>1.690132</td>\n",
       "      <td>1.705780</td>\n",
       "    </tr>\n",
       "    <tr>\n",
       "      <th>767</th>\n",
       "      <td>31-12-2012</td>\n",
       "      <td>35.856</td>\n",
       "      <td>36.472</td>\n",
       "      <td>35.537</td>\n",
       "      <td>36.462</td>\n",
       "      <td>1269977</td>\n",
       "      <td>-0.695689</td>\n",
       "      <td>-0.664588</td>\n",
       "      <td>-0.671736</td>\n",
       "    </tr>\n",
       "    <tr>\n",
       "      <th>266</th>\n",
       "      <td>31-12-2010</td>\n",
       "      <td>43.793</td>\n",
       "      <td>44.447</td>\n",
       "      <td>43.716</td>\n",
       "      <td>44.447</td>\n",
       "      <td>469318</td>\n",
       "      <td>0.731889</td>\n",
       "      <td>0.784177</td>\n",
       "      <td>0.783237</td>\n",
       "    </tr>\n",
       "  </tbody>\n",
       "</table>\n",
       "</div>"
      ],
      "text/plain": [
       "            Date  Citi_Open  HSBC_Open  BOA_Open  Benchmark_Index   Volume  \\\n",
       "1523  31-12-2015     38.525     38.912    38.436           38.446   733818   \n",
       "1271  31-12-2014     46.415     46.628    45.673           45.709   752429   \n",
       "1019  31-12-2013     49.028     49.434    48.902           49.292   703661   \n",
       "767   31-12-2012     35.856     36.472    35.537           36.462  1269977   \n",
       "266   31-12-2010     43.793     44.447    43.716           44.447   469318   \n",
       "\n",
       "           z_C       z_h       z_b  \n",
       "1523 -0.215633 -0.221329 -0.156029  \n",
       "1271  1.203492  1.180385  1.131370  \n",
       "1019  1.673476  1.690132  1.705780  \n",
       "767  -0.695689 -0.664588 -0.671736  \n",
       "266   0.731889  0.784177  0.783237  "
      ]
     },
     "execution_count": 22,
     "metadata": {},
     "output_type": "execute_result"
    }
   ],
   "source": [
    "df1.head()"
   ]
  },
  {
   "cell_type": "code",
   "execution_count": 23,
   "metadata": {},
   "outputs": [
    {
     "name": "stdout",
     "output_type": "stream",
     "text": [
      "(array([], dtype=int64),)\n",
      "(array([], dtype=int64),)\n",
      "(array([], dtype=int64),)\n"
     ]
    }
   ],
   "source": [
    "threshold = 3\n",
    "print(np.where(df1['z_C'] > 3))\n",
    "print(np.where(df1['z_h'] > 3))\n",
    "print(np.where(df1['z_b'] > 3))"
   ]
  },
  {
   "cell_type": "code",
   "execution_count": 24,
   "metadata": {},
   "outputs": [
    {
     "name": "stdout",
     "output_type": "stream",
     "text": [
      "1.6471468103459583\n"
     ]
    }
   ],
   "source": [
    "Q1 = df1['z_C'].quantile(0.25)\n",
    "Q3 = df1['z_C'].quantile(0.75)\n",
    "IQR = Q3 - Q1\n",
    "print(IQR)"
   ]
  },
  {
   "cell_type": "code",
   "execution_count": 25,
   "metadata": {},
   "outputs": [
    {
     "name": "stdout",
     "output_type": "stream",
     "text": [
      "1994\n",
      "0\n"
     ]
    }
   ],
   "source": [
    "c=(df1['z_C'] < (Q1 - 1.5 * IQR)) |(df1['z_C'] > (Q3 + 1.5 * IQR))\n",
    "false = (c == 0).sum()\n",
    "true=(c==1).sum()\n",
    "print(false)\n",
    "print(true)"
   ]
  },
  {
   "cell_type": "code",
   "execution_count": 26,
   "metadata": {},
   "outputs": [
    {
     "name": "stdout",
     "output_type": "stream",
     "text": [
      "1.6676237552527495\n"
     ]
    }
   ],
   "source": [
    "Q1 = df1['z_h'].quantile(0.25)\n",
    "Q3 = df1['z_h'].quantile(0.75)\n",
    "IQR = Q3 - Q1\n",
    "print(IQR)"
   ]
  },
  {
   "cell_type": "code",
   "execution_count": 27,
   "metadata": {},
   "outputs": [
    {
     "name": "stdout",
     "output_type": "stream",
     "text": [
      "1994\n",
      "0\n"
     ]
    }
   ],
   "source": [
    "c=(df1['z_h'] < (Q1 - 1.5 * IQR)) |(df1['z_h'] > (Q3 + 1.5 * IQR))\n",
    "false = (c == 0).sum()\n",
    "true=(c==1).sum()\n",
    "print(false)\n",
    "print(true)"
   ]
  },
  {
   "cell_type": "code",
   "execution_count": 28,
   "metadata": {},
   "outputs": [
    {
     "name": "stdout",
     "output_type": "stream",
     "text": [
      "1.6493628732683696\n"
     ]
    }
   ],
   "source": [
    "Q1 = df1['z_b'].quantile(0.25)\n",
    "Q3 = df1['z_b'].quantile(0.75)\n",
    "IQR = Q3 - Q1\n",
    "print(IQR)"
   ]
  },
  {
   "cell_type": "code",
   "execution_count": 29,
   "metadata": {},
   "outputs": [
    {
     "name": "stdout",
     "output_type": "stream",
     "text": [
      "1994\n",
      "0\n"
     ]
    }
   ],
   "source": [
    "c=(df1['z_b'] < (Q1 - 1.5 * IQR)) |(df1['z_b'] > (Q3 + 1.5 * IQR))\n",
    "false = (c == 0).sum()\n",
    "true=(c==1).sum()\n",
    "print(false)\n",
    "print(true)"
   ]
  },
  {
   "cell_type": "code",
   "execution_count": 30,
   "metadata": {},
   "outputs": [
    {
     "data": {
      "text/html": [
       "<div>\n",
       "<style scoped>\n",
       "    .dataframe tbody tr th:only-of-type {\n",
       "        vertical-align: middle;\n",
       "    }\n",
       "\n",
       "    .dataframe tbody tr th {\n",
       "        vertical-align: top;\n",
       "    }\n",
       "\n",
       "    .dataframe thead th {\n",
       "        text-align: right;\n",
       "    }\n",
       "</style>\n",
       "<table border=\"1\" class=\"dataframe\">\n",
       "  <thead>\n",
       "    <tr style=\"text-align: right;\">\n",
       "      <th></th>\n",
       "      <th>Citi_Open</th>\n",
       "      <th>HSBC_Open</th>\n",
       "      <th>BOA_Open</th>\n",
       "    </tr>\n",
       "  </thead>\n",
       "  <tbody>\n",
       "    <tr>\n",
       "      <th>1543</th>\n",
       "      <td>-0.305922</td>\n",
       "      <td>-0.274726</td>\n",
       "      <td>-0.301336</td>\n",
       "    </tr>\n",
       "    <tr>\n",
       "      <th>789</th>\n",
       "      <td>0.412637</td>\n",
       "      <td>0.354488</td>\n",
       "      <td>0.430338</td>\n",
       "    </tr>\n",
       "    <tr>\n",
       "      <th>538</th>\n",
       "      <td>-0.089210</td>\n",
       "      <td>-0.089782</td>\n",
       "      <td>-0.089585</td>\n",
       "    </tr>\n",
       "    <tr>\n",
       "      <th>287</th>\n",
       "      <td>0.235476</td>\n",
       "      <td>0.234057</td>\n",
       "      <td>0.238053</td>\n",
       "    </tr>\n",
       "    <tr>\n",
       "      <th>34</th>\n",
       "      <td>-0.329734</td>\n",
       "      <td>-0.332787</td>\n",
       "      <td>-0.365960</td>\n",
       "    </tr>\n",
       "  </tbody>\n",
       "</table>\n",
       "</div>"
      ],
      "text/plain": [
       "      Citi_Open  HSBC_Open  BOA_Open\n",
       "1543  -0.305922  -0.274726 -0.301336\n",
       "789    0.412637   0.354488  0.430338\n",
       "538   -0.089210  -0.089782 -0.089585\n",
       "287    0.235476   0.234057  0.238053\n",
       "34    -0.329734  -0.332787 -0.365960"
      ]
     },
     "execution_count": 30,
     "metadata": {},
     "output_type": "execute_result"
    }
   ],
   "source": [
    "#create our portfolio of equities \n",
    "tickers = ['Citi','HSBC', 'BOA']\n",
    "#set the weights\n",
    "weights = np.array([.25,.6,.15])\n",
    "#set an initial investment level\n",
    "initial_investment= 100000\n",
    "df2 = df1[['Citi_Open', 'HSBC_Open', 'BOA_Open']]\n",
    "returns = df2.pct_change()\n",
    "returns.tail()"
   ]
  },
  {
   "cell_type": "code",
   "execution_count": 31,
   "metadata": {},
   "outputs": [
    {
     "data": {
      "text/html": [
       "<div>\n",
       "<style scoped>\n",
       "    .dataframe tbody tr th:only-of-type {\n",
       "        vertical-align: middle;\n",
       "    }\n",
       "\n",
       "    .dataframe tbody tr th {\n",
       "        vertical-align: top;\n",
       "    }\n",
       "\n",
       "    .dataframe thead th {\n",
       "        text-align: right;\n",
       "    }\n",
       "</style>\n",
       "<table border=\"1\" class=\"dataframe\">\n",
       "  <thead>\n",
       "    <tr style=\"text-align: right;\">\n",
       "      <th></th>\n",
       "      <th>Citi_Open</th>\n",
       "      <th>HSBC_Open</th>\n",
       "      <th>BOA_Open</th>\n",
       "    </tr>\n",
       "  </thead>\n",
       "  <tbody>\n",
       "    <tr>\n",
       "      <th>1989</th>\n",
       "      <td>-0.008250</td>\n",
       "      <td>0.001065</td>\n",
       "      <td>-0.002633</td>\n",
       "    </tr>\n",
       "    <tr>\n",
       "      <th>1990</th>\n",
       "      <td>0.003929</td>\n",
       "      <td>-0.001064</td>\n",
       "      <td>-0.017752</td>\n",
       "    </tr>\n",
       "    <tr>\n",
       "      <th>1991</th>\n",
       "      <td>-0.020246</td>\n",
       "      <td>-0.013221</td>\n",
       "      <td>-0.000896</td>\n",
       "    </tr>\n",
       "    <tr>\n",
       "      <th>1992</th>\n",
       "      <td>-0.000491</td>\n",
       "      <td>-0.003085</td>\n",
       "      <td>0.002869</td>\n",
       "    </tr>\n",
       "    <tr>\n",
       "      <th>1993</th>\n",
       "      <td>0.008038</td>\n",
       "      <td>0.002431</td>\n",
       "      <td>-0.001565</td>\n",
       "    </tr>\n",
       "  </tbody>\n",
       "</table>\n",
       "</div>"
      ],
      "text/plain": [
       "      Citi_Open  HSBC_Open  BOA_Open\n",
       "1989  -0.008250   0.001065 -0.002633\n",
       "1990   0.003929  -0.001064 -0.017752\n",
       "1991  -0.020246  -0.013221 -0.000896\n",
       "1992  -0.000491  -0.003085  0.002869\n",
       "1993   0.008038   0.002431 -0.001565"
      ]
     },
     "execution_count": 31,
     "metadata": {},
     "output_type": "execute_result"
    }
   ],
   "source": [
    "#create our portfolio of equities \n",
    "tickers = ['Citi','HSBC', 'BOA']\n",
    "#set the weights\n",
    "weights1 = np.array([.25,.6,.15])\n",
    "weights2 = np.array([.5,.25,.25])\n",
    "weights3=np.array([.75,.125,.125])\n",
    "\n",
    "#set an initial investment level\n",
    "initial_investment= 1000000\n",
    "df2 = data[['Citi_Open', 'HSBC_Open', 'BOA_Open']]\n",
    "returns = df2.pct_change()\n",
    "returns.tail()"
   ]
  },
  {
   "cell_type": "code",
   "execution_count": 32,
   "metadata": {},
   "outputs": [
    {
     "data": {
      "text/plain": [
       "array([[0.25 , 0.6  , 0.15 ],\n",
       "       [0.5  , 0.25 , 0.25 ],\n",
       "       [0.75 , 0.125, 0.125]])"
      ]
     },
     "execution_count": 32,
     "metadata": {},
     "output_type": "execute_result"
    }
   ],
   "source": [
    "weights=np.vstack((weights1,weights2,weights3))\n",
    "weights"
   ]
  },
  {
   "cell_type": "code",
   "execution_count": 33,
   "metadata": {},
   "outputs": [
    {
     "data": {
      "text/html": [
       "<div>\n",
       "<style scoped>\n",
       "    .dataframe tbody tr th:only-of-type {\n",
       "        vertical-align: middle;\n",
       "    }\n",
       "\n",
       "    .dataframe tbody tr th {\n",
       "        vertical-align: top;\n",
       "    }\n",
       "\n",
       "    .dataframe thead th {\n",
       "        text-align: right;\n",
       "    }\n",
       "</style>\n",
       "<table border=\"1\" class=\"dataframe\">\n",
       "  <thead>\n",
       "    <tr style=\"text-align: right;\">\n",
       "      <th></th>\n",
       "      <th>Citi_Open</th>\n",
       "      <th>HSBC_Open</th>\n",
       "      <th>BOA_Open</th>\n",
       "    </tr>\n",
       "  </thead>\n",
       "  <tbody>\n",
       "    <tr>\n",
       "      <th>Citi_Open</th>\n",
       "      <td>0.000279</td>\n",
       "      <td>0.000176</td>\n",
       "      <td>0.000203</td>\n",
       "    </tr>\n",
       "    <tr>\n",
       "      <th>HSBC_Open</th>\n",
       "      <td>0.000176</td>\n",
       "      <td>0.000256</td>\n",
       "      <td>0.000188</td>\n",
       "    </tr>\n",
       "    <tr>\n",
       "      <th>BOA_Open</th>\n",
       "      <td>0.000203</td>\n",
       "      <td>0.000188</td>\n",
       "      <td>0.000315</td>\n",
       "    </tr>\n",
       "  </tbody>\n",
       "</table>\n",
       "</div>"
      ],
      "text/plain": [
       "           Citi_Open  HSBC_Open  BOA_Open\n",
       "Citi_Open   0.000279   0.000176  0.000203\n",
       "HSBC_Open   0.000176   0.000256  0.000188\n",
       "BOA_Open    0.000203   0.000188  0.000315"
      ]
     },
     "execution_count": 33,
     "metadata": {},
     "output_type": "execute_result"
    }
   ],
   "source": [
    "#Create a covariance matrix based on returns\n",
    "cov_matrix=returns.cov()\n",
    "cov_matrix"
   ]
  },
  {
   "cell_type": "code",
   "execution_count": 55,
   "metadata": {},
   "outputs": [],
   "source": [
    "#Calculate mean returns for each stock\n",
    "avg_rets=returns.mean()\n",
    "\n",
    "#Calculate mean returns for portfolio is overall\n",
    "#Using dot product to normalize individual means against investment weights\n",
    "#normalize the individual means against investment weights\n",
    "port_mean1=[]\n",
    "port_stdev1=[]\n",
    "mean_investment1=[]\n",
    "stdev_investment1=[]\n",
    "n=len(weights)\n",
    "for i in range(0,n):\n",
    "    port_mean=avg_rets.dot(weights[i])\n",
    "    port_mean1.append(port_mean)\n",
    "\n",
    "#Calculate portfolio Standard Deviation\n",
    "    port_stdev=np.sqrt(weights[i].T.dot(cov_matrix).dot(weights[i]))\n",
    "    port_stdev1.append(port_stdev)\n",
    "\n",
    "#Calculate mean of investment\n",
    "    mean_investment=(1+port_mean)*initial_investment\n",
    "    mean_investment1.append(mean_investment)\n",
    "#Calculate Standard deviation of investment\n",
    "    stdev_investment=initial_investment*port_stdev\n",
    "    stdev_investment1.append(stdev_investment)\n"
   ]
  },
  {
   "cell_type": "code",
   "execution_count": 57,
   "metadata": {},
   "outputs": [
    {
     "data": {
      "text/plain": [
       "[14780.474250744648, 14960.059758297426, 15590.674996556705]"
      ]
     },
     "execution_count": 57,
     "metadata": {},
     "output_type": "execute_result"
    }
   ],
   "source": [
    "stdev_investment1"
   ]
  },
  {
   "cell_type": "code",
   "execution_count": 60,
   "metadata": {},
   "outputs": [],
   "source": [
    "conf_level=0.05\n",
    "import scipy\n",
    "from scipy.stats import norm\n",
    "#cutoff1= norm.ppf(conf_level,mean_investment,stdev_investment)"
   ]
  },
  {
   "cell_type": "code",
   "execution_count": 61,
   "metadata": {},
   "outputs": [],
   "source": [
    "cutoff1=[]\n",
    "var_1d1=[]"
   ]
  },
  {
   "cell_type": "code",
   "execution_count": 62,
   "metadata": {},
   "outputs": [],
   "source": [
    "#estimate the value at Risk(var) for the portfolio\n",
    "#by subtracting the inital investment from the calculation above\n",
    "\n",
    "#Finally,we can calculate the VAR at our Confidenct interval\n",
    "cutoff1= norm.ppf(conf_level,mean_investment1,stdev_investment1)\n",
    "var_1d1= initial_investment- cutoff1"
   ]
  },
  {
   "cell_type": "code",
   "execution_count": 63,
   "metadata": {},
   "outputs": [
    {
     "data": {
      "text/plain": [
       "array([23923.55700531, 24188.70375423, 25221.96456923])"
      ]
     },
     "execution_count": 63,
     "metadata": {},
     "output_type": "execute_result"
    }
   ],
   "source": [
    "var_1d1"
   ]
  },
  {
   "cell_type": "code",
   "execution_count": 65,
   "metadata": {},
   "outputs": [
    {
     "data": {
      "text/plain": [
       "array([0.02392356, 0.0241887 , 0.02522196])"
      ]
     },
     "execution_count": 65,
     "metadata": {},
     "output_type": "execute_result"
    }
   ],
   "source": [
    "var_1d1/initial_investment"
   ]
  },
  {
   "cell_type": "code",
   "execution_count": 66,
   "metadata": {},
   "outputs": [],
   "source": [
    "#Propsal One is best \n",
    "#propsal1= 2.39\n",
    "#Propsal2= 2.41\n",
    "#Propsal3= 2.52"
   ]
  }
 ],
 "metadata": {
  "kernelspec": {
   "display_name": "Python 3",
   "language": "python",
   "name": "python3"
  },
  "language_info": {
   "codemirror_mode": {
    "name": "ipython",
    "version": 3
   },
   "file_extension": ".py",
   "mimetype": "text/x-python",
   "name": "python",
   "nbconvert_exporter": "python",
   "pygments_lexer": "ipython3",
   "version": "3.7.6"
  }
 },
 "nbformat": 4,
 "nbformat_minor": 4
}
